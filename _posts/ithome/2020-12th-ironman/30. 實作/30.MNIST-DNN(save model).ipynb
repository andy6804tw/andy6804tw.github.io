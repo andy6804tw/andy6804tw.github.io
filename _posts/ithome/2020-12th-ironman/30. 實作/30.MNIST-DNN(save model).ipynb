{
 "cells": [
  {
   "cell_type": "markdown",
   "metadata": {},
   "source": [
    "## 1. Import Library"
   ]
  },
  {
   "cell_type": "code",
   "execution_count": 1,
   "metadata": {},
   "outputs": [],
   "source": [
    "from sklearn.model_selection import train_test_split\n",
    "from sklearn.utils import shuffle\n",
    "import numpy as np\n",
    "import tensorflow as tf\n",
    "from tqdm import tqdm\n",
    "import matplotlib.pyplot as plt"
   ]
  },
  {
   "cell_type": "code",
   "execution_count": 2,
   "metadata": {},
   "outputs": [],
   "source": [
    "# setting hyperparameter\n",
    "batch_size = 32\n",
    "epochs = 1000\n",
    "lr = 0.01\n",
    "train_ratio = 0.9"
   ]
  },
  {
   "cell_type": "markdown",
   "metadata": {},
   "source": [
    "## 2. 匯入MINIST手寫辨識數據集以及資料前處理\n",
    "使用sklearn 8x8 的手寫數字數據集"
   ]
  },
  {
   "cell_type": "code",
   "execution_count": 3,
   "metadata": {},
   "outputs": [
    {
     "name": "stdout",
     "output_type": "stream",
     "text": [
      "Training data shape: (60000, 784)\n",
      "Testing data shape: (10000, 784)\n"
     ]
    }
   ],
   "source": [
    "from tensorflow.keras.datasets import mnist\n",
    "\n",
    "(X_train, y_train), (X_test, y_test) = mnist.load_data()\n",
    "X_train=X_train.reshape(len(X_train),-1)/255\n",
    "X_test=X_test.reshape(len(X_test),-1)/255\n",
    "# one hot encoding\n",
    "y_train_one_hot = np.eye(10)[y_train]\n",
    "y_test_one_hot = np.eye(10)[y_test]\n",
    "\n",
    "print('Training data shape:',X_train.shape)\n",
    "print('Testing data shape:',X_test.shape)"
   ]
  },
  {
   "cell_type": "code",
   "execution_count": 4,
   "metadata": {},
   "outputs": [
    {
     "data": {
      "image/png": "[encoded data removed]",
      "text/plain": [
       "<Figure size 432x288 with 1 Axes>"
      ]
     },
     "metadata": {
      "needs_background": "light"
     },
     "output_type": "display_data"
    },
    {
     "name": "stdout",
     "output_type": "stream",
     "text": [
      "5\n"
     ]
    }
   ],
   "source": [
    "plt.imshow(X_train[0].reshape(28, 28), cmap='gray')\n",
    "plt.show()\n",
    "print(y_train[0])"
   ]
  },
  {
   "cell_type": "markdown",
   "metadata": {},
   "source": [
    "## 3. 建立網路模型"
   ]
  },
  {
   "cell_type": "code",
   "execution_count": 5,
   "metadata": {},
   "outputs": [
    {
     "name": "stdout",
     "output_type": "stream",
     "text": [
      "1.14.0\n"
     ]
    }
   ],
   "source": [
    "import tensorflow as tf\n",
    "from tensorflow import keras\n",
    "from tensorflow.keras.layers import Dense, Activation\n",
    "from tensorflow.keras import Sequential\n",
    "from tensorflow.keras.models import Model\n",
    "from tensorflow.keras.optimizers import Adam\n",
    "\n",
    "print(tf.__version__)"
   ]
  },
  {
   "cell_type": "code",
   "execution_count": 6,
   "metadata": {},
   "outputs": [],
   "source": [
    "# 此範例使用 Tensorflow2.0 Sequential API 搭建神經網路。\n",
    "def build_model():\n",
    "    model = Sequential()\n",
    "    model.add(Dense(25, Activation('relu'), input_dim=X_train.shape[-1]))\n",
    "    model.add(Dense(10, Activation('softmax')))\n",
    "    return model"
   ]
  },
  {
   "cell_type": "code",
   "execution_count": 7,
   "metadata": {},
   "outputs": [
    {
     "name": "stdout",
     "output_type": "stream",
     "text": [
      "WARNING:tensorflow:From /opt/anaconda3/lib/python3.7/site-packages/tensorflow/python/ops/init_ops.py:1251: calling VarianceScaling.__init__ (from tensorflow.python.ops.init_ops) with dtype is deprecated and will be removed in a future version.\n",
      "Instructions for updating:\n",
      "Call initializer instance with the dtype argument instead of passing it to the constructor\n",
      "Model: \"sequential\"\n",
      "_________________________________________________________________\n",
      "Layer (type)                 Output Shape              Param #   \n",
      "=================================================================\n",
      "dense (Dense)                (None, 25)                19625     \n",
      "_________________________________________________________________\n",
      "dense_1 (Dense)              (None, 10)                260       \n",
      "=================================================================\n",
      "Total params: 19,885\n",
      "Trainable params: 19,885\n",
      "Non-trainable params: 0\n",
      "_________________________________________________________________\n"
     ]
    }
   ],
   "source": [
    "model = build_model()\n",
    "model.summary()   # Weights = (64+1)*25+(25+1)*10"
   ]
  },
  {
   "cell_type": "markdown",
   "metadata": {},
   "source": [
    "## 4. 編譯&訓練模型"
   ]
  },
  {
   "cell_type": "code",
   "execution_count": 8,
   "metadata": {},
   "outputs": [
    {
     "name": "stdout",
     "output_type": "stream",
     "text": [
      "Train on 54000 samples, validate on 6000 samples\n",
      "Epoch 1/25\n",
      "54000/54000 [==============================] - 1s 16us/sample - loss: 0.4635 - acc: 0.8719 - val_loss: 0.2309 - val_acc: 0.9382\n",
      "Epoch 2/25\n",
      "54000/54000 [==============================] - 1s 14us/sample - loss: 0.2581 - acc: 0.9269 - val_loss: 0.1902 - val_acc: 0.9495\n",
      "Epoch 3/25\n",
      "54000/54000 [==============================] - 1s 14us/sample - loss: 0.2133 - acc: 0.9395 - val_loss: 0.1651 - val_acc: 0.9543\n",
      "Epoch 4/25\n",
      "54000/54000 [==============================] - 1s 14us/sample - loss: 0.1852 - acc: 0.9469 - val_loss: 0.1470 - val_acc: 0.9598\n",
      "Epoch 5/25\n",
      "54000/54000 [==============================] - 1s 14us/sample - loss: 0.1650 - acc: 0.9524 - val_loss: 0.1414 - val_acc: 0.9605\n",
      "Epoch 6/25\n",
      "54000/54000 [==============================] - 1s 14us/sample - loss: 0.1493 - acc: 0.9560 - val_loss: 0.1440 - val_acc: 0.9578\n",
      "Epoch 7/25\n",
      "54000/54000 [==============================] - 1s 15us/sample - loss: 0.1371 - acc: 0.9595 - val_loss: 0.1303 - val_acc: 0.9632\n",
      "Epoch 8/25\n",
      "54000/54000 [==============================] - 1s 14us/sample - loss: 0.1272 - acc: 0.9617 - val_loss: 0.1345 - val_acc: 0.9608\n",
      "Epoch 9/25\n",
      "54000/54000 [==============================] - 1s 14us/sample - loss: 0.1184 - acc: 0.9647 - val_loss: 0.1233 - val_acc: 0.9632\n",
      "Epoch 10/25\n",
      "54000/54000 [==============================] - 1s 18us/sample - loss: 0.1128 - acc: 0.9662 - val_loss: 0.1193 - val_acc: 0.9650\n",
      "Epoch 11/25\n",
      "54000/54000 [==============================] - 1s 15us/sample - loss: 0.1058 - acc: 0.9680 - val_loss: 0.1228 - val_acc: 0.9650\n",
      "Epoch 12/25\n",
      "54000/54000 [==============================] - 1s 16us/sample - loss: 0.1010 - acc: 0.9696 - val_loss: 0.1218 - val_acc: 0.9652\n",
      "Epoch 13/25\n",
      "54000/54000 [==============================] - 1s 14us/sample - loss: 0.0956 - acc: 0.9715 - val_loss: 0.1201 - val_acc: 0.9673\n",
      "Epoch 14/25\n",
      "54000/54000 [==============================] - 1s 14us/sample - loss: 0.0926 - acc: 0.9717 - val_loss: 0.1192 - val_acc: 0.9690\n",
      "Epoch 15/25\n",
      "54000/54000 [==============================] - 1s 14us/sample - loss: 0.0878 - acc: 0.9731 - val_loss: 0.1238 - val_acc: 0.9650\n",
      "Epoch 16/25\n",
      "54000/54000 [==============================] - 1s 15us/sample - loss: 0.0846 - acc: 0.9741 - val_loss: 0.1192 - val_acc: 0.9675\n",
      "Epoch 17/25\n",
      "54000/54000 [==============================] - 1s 14us/sample - loss: 0.0814 - acc: 0.9744 - val_loss: 0.1212 - val_acc: 0.9665\n",
      "Epoch 18/25\n",
      "54000/54000 [==============================] - 1s 14us/sample - loss: 0.0781 - acc: 0.9760 - val_loss: 0.1188 - val_acc: 0.9685\n",
      "Epoch 19/25\n",
      "54000/54000 [==============================] - 1s 14us/sample - loss: 0.0756 - acc: 0.9766 - val_loss: 0.1191 - val_acc: 0.9690\n",
      "Epoch 20/25\n",
      "54000/54000 [==============================] - 1s 14us/sample - loss: 0.0727 - acc: 0.9771 - val_loss: 0.1230 - val_acc: 0.9685\n",
      "Epoch 21/25\n",
      "54000/54000 [==============================] - 1s 14us/sample - loss: 0.0707 - acc: 0.9783 - val_loss: 0.1211 - val_acc: 0.9667\n",
      "Epoch 22/25\n",
      "54000/54000 [==============================] - 1s 14us/sample - loss: 0.0681 - acc: 0.9796 - val_loss: 0.1252 - val_acc: 0.9673\n",
      "Epoch 23/25\n",
      "54000/54000 [==============================] - 1s 13us/sample - loss: 0.0666 - acc: 0.9794 - val_loss: 0.1257 - val_acc: 0.9695\n",
      "Epoch 24/25\n",
      "54000/54000 [==============================] - 1s 14us/sample - loss: 0.0632 - acc: 0.9807 - val_loss: 0.1247 - val_acc: 0.9675\n",
      "Epoch 25/25\n",
      "54000/54000 [==============================] - 1s 14us/sample - loss: 0.0620 - acc: 0.9814 - val_loss: 0.1210 - val_acc: 0.9705\n"
     ]
    }
   ],
   "source": [
    "# 編譯模型\n",
    "optim = Adam(lr=0.001)\n",
    "model.compile(loss='categorical_crossentropy',\n",
    "              optimizer=optim,\n",
    "              metrics=['acc'])\n",
    "\n",
    "batch_size=64\n",
    "epochs = 25\n",
    "\n",
    "# 訓練模型\n",
    "history = model.fit(X_train, y_train_one_hot,\n",
    "                    batch_size=batch_size,\n",
    "                    epochs=epochs,\n",
    "                    verbose=1,\n",
    "                    shuffle=True,\n",
    "                    validation_split=0.1)\n"
   ]
  },
  {
   "cell_type": "markdown",
   "metadata": {},
   "source": [
    "## 5) 觀察訓練結果"
   ]
  },
  {
   "cell_type": "code",
   "execution_count": 9,
   "metadata": {},
   "outputs": [
    {
     "data": {
      "text/plain": [
       "dict_keys(['loss', 'acc', 'val_loss', 'val_acc'])"
      ]
     },
     "execution_count": 9,
     "metadata": {},
     "output_type": "execute_result"
    }
   ],
   "source": [
    "history_dict = history.history\n",
    "history_dict.keys()"
   ]
  },
  {
   "cell_type": "code",
   "execution_count": 10,
   "metadata": {},
   "outputs": [],
   "source": [
    "import matplotlib.pyplot as plt\n",
    "\n",
    "acc = history_dict['acc']\n",
    "val_acc = history_dict['val_acc']\n",
    "loss = history_dict['loss']\n",
    "val_loss = history_dict['val_loss']\n",
    "epochs_ = range(1,len(acc)+1)"
   ]
  },
  {
   "cell_type": "markdown",
   "metadata": {},
   "source": [
    "### 訓練集和測試集 loss"
   ]
  },
  {
   "cell_type": "code",
   "execution_count": 11,
   "metadata": {},
   "outputs": [
    {
     "data": {
      "image/png": "[encoded data removed]",
      "text/plain": [
       "<Figure size 432x288 with 1 Axes>"
      ]
     },
     "metadata": {
      "needs_background": "light"
     },
     "output_type": "display_data"
    }
   ],
   "source": [
    "plt.plot(epochs_ , loss , label = 'training loss')\n",
    "plt.plot(epochs_ , val_loss , label = 'val los')\n",
    "plt.title('training and val loss')\n",
    "plt.xlabel('epochs')\n",
    "plt.ylabel('loss')\n",
    "plt.legend()\n",
    "plt.show()"
   ]
  },
  {
   "cell_type": "markdown",
   "metadata": {},
   "source": [
    "### 訓練集和測試集 accuracy"
   ]
  },
  {
   "cell_type": "code",
   "execution_count": 12,
   "metadata": {},
   "outputs": [
    {
     "data": {
      "image/png": "[encoded data removed]",
      "text/plain": [
       "<Figure size 432x288 with 1 Axes>"
      ]
     },
     "metadata": {
      "needs_background": "light"
     },
     "output_type": "display_data"
    }
   ],
   "source": [
    "plt.clf()\n",
    "plt.plot(epochs_ , acc , label='train accuracy')\n",
    "plt.plot(epochs_ , val_acc , label = 'val accuracy')\n",
    "plt.title('train and val acc')\n",
    "plt.xlabel('epochs')\n",
    "plt.ylabel('acc')\n",
    "plt.legend()\n",
    "plt.show()"
   ]
  },
  {
   "cell_type": "markdown",
   "metadata": {},
   "source": [
    "## 測試集預測"
   ]
  },
  {
   "cell_type": "code",
   "execution_count": 13,
   "metadata": {},
   "outputs": [
    {
     "data": {
      "text/plain": [
       "0.9646"
      ]
     },
     "execution_count": 13,
     "metadata": {},
     "output_type": "execute_result"
    }
   ],
   "source": [
    "from sklearn.metrics import accuracy_score\n",
    "\n",
    "pred =  np.argmax(model.predict(X_test), axis=1)\n",
    "accuracy_score(y_test, pred)"
   ]
  },
  {
   "cell_type": "markdown",
   "metadata": {},
   "source": [
    "## 儲存模型"
   ]
  },
  {
   "cell_type": "code",
   "execution_count": 19,
   "metadata": {},
   "outputs": [
    {
     "ename": "ModuleNotFoundError",
     "evalue": "No module named 'tensorflow.compat'",
     "output_type": "error",
     "traceback": [
      "\u001b[0;31m---------------------------------------------------------------------------\u001b[0m",
      "\u001b[0;31mModuleNotFoundError\u001b[0m                       Traceback (most recent call last)",
      "\u001b[0;32m<ipython-input-19-0ff544ed3ca5>\u001b[0m in \u001b[0;36m<module>\u001b[0;34m\u001b[0m\n\u001b[0;32m----> 1\u001b[0;31m \u001b[0;32mimport\u001b[0m \u001b[0mtensorflowjs\u001b[0m \u001b[0;32mas\u001b[0m \u001b[0mtfjs\u001b[0m\u001b[0;34m\u001b[0m\u001b[0;34m\u001b[0m\u001b[0m\n\u001b[0m\u001b[1;32m      2\u001b[0m \u001b[0;31m# tfjs.converters.save_keras_model(model, 'models')\u001b[0m\u001b[0;34m\u001b[0m\u001b[0;34m\u001b[0m\u001b[0;34m\u001b[0m\u001b[0m\n",
      "\u001b[0;32m/opt/anaconda3/lib/python3.7/site-packages/tensorflowjs/__init__.py\u001b[0m in \u001b[0;36m<module>\u001b[0;34m\u001b[0m\n\u001b[1;32m     19\u001b[0m \u001b[0;34m\u001b[0m\u001b[0m\n\u001b[1;32m     20\u001b[0m \u001b[0;31m# pylint: disable=unused-imports\u001b[0m\u001b[0;34m\u001b[0m\u001b[0;34m\u001b[0m\u001b[0;34m\u001b[0m\u001b[0m\n\u001b[0;32m---> 21\u001b[0;31m \u001b[0;32mfrom\u001b[0m \u001b[0mtensorflowjs\u001b[0m \u001b[0;32mimport\u001b[0m \u001b[0mconverters\u001b[0m\u001b[0;34m\u001b[0m\u001b[0;34m\u001b[0m\u001b[0m\n\u001b[0m\u001b[1;32m     22\u001b[0m \u001b[0;32mfrom\u001b[0m \u001b[0mtensorflowjs\u001b[0m \u001b[0;32mimport\u001b[0m \u001b[0mquantization\u001b[0m\u001b[0;34m\u001b[0m\u001b[0;34m\u001b[0m\u001b[0m\n\u001b[1;32m     23\u001b[0m \u001b[0;32mfrom\u001b[0m \u001b[0mtensorflowjs\u001b[0m \u001b[0;32mimport\u001b[0m \u001b[0mversion\u001b[0m\u001b[0;34m\u001b[0m\u001b[0;34m\u001b[0m\u001b[0m\n",
      "\u001b[0;32m/opt/anaconda3/lib/python3.7/site-packages/tensorflowjs/converters/__init__.py\u001b[0m in \u001b[0;36m<module>\u001b[0;34m\u001b[0m\n\u001b[1;32m     20\u001b[0m \u001b[0;31m# pylint: disable=unused-imports,line-too-long\u001b[0m\u001b[0;34m\u001b[0m\u001b[0;34m\u001b[0m\u001b[0;34m\u001b[0m\u001b[0m\n\u001b[1;32m     21\u001b[0m \u001b[0;32mfrom\u001b[0m \u001b[0mtensorflowjs\u001b[0m\u001b[0;34m.\u001b[0m\u001b[0mconverters\u001b[0m\u001b[0;34m.\u001b[0m\u001b[0mkeras_h5_conversion\u001b[0m \u001b[0;32mimport\u001b[0m \u001b[0msave_keras_model\u001b[0m\u001b[0;34m\u001b[0m\u001b[0;34m\u001b[0m\u001b[0m\n\u001b[0;32m---> 22\u001b[0;31m \u001b[0;32mfrom\u001b[0m \u001b[0mtensorflowjs\u001b[0m\u001b[0;34m.\u001b[0m\u001b[0mconverters\u001b[0m\u001b[0;34m.\u001b[0m\u001b[0mkeras_tfjs_loader\u001b[0m \u001b[0;32mimport\u001b[0m \u001b[0mdeserialize_keras_model\u001b[0m\u001b[0;34m\u001b[0m\u001b[0;34m\u001b[0m\u001b[0m\n\u001b[0m\u001b[1;32m     23\u001b[0m \u001b[0;32mfrom\u001b[0m \u001b[0mtensorflowjs\u001b[0m\u001b[0;34m.\u001b[0m\u001b[0mconverters\u001b[0m\u001b[0;34m.\u001b[0m\u001b[0mkeras_tfjs_loader\u001b[0m \u001b[0;32mimport\u001b[0m \u001b[0mload_keras_model\u001b[0m\u001b[0;34m\u001b[0m\u001b[0;34m\u001b[0m\u001b[0m\n\u001b[1;32m     24\u001b[0m \u001b[0;32mfrom\u001b[0m \u001b[0mtensorflowjs\u001b[0m\u001b[0;34m.\u001b[0m\u001b[0mconverters\u001b[0m\u001b[0;34m.\u001b[0m\u001b[0mtf_saved_model_conversion_v2\u001b[0m \u001b[0;32mimport\u001b[0m \u001b[0mconvert_tf_saved_model\u001b[0m\u001b[0;34m\u001b[0m\u001b[0;34m\u001b[0m\u001b[0m\n",
      "\u001b[0;32m/opt/anaconda3/lib/python3.7/site-packages/tensorflowjs/converters/keras_tfjs_loader.py\u001b[0m in \u001b[0;36m<module>\u001b[0;34m\u001b[0m\n\u001b[1;32m     24\u001b[0m \u001b[0;34m\u001b[0m\u001b[0m\n\u001b[1;32m     25\u001b[0m \u001b[0;32mimport\u001b[0m \u001b[0msix\u001b[0m\u001b[0;34m\u001b[0m\u001b[0;34m\u001b[0m\u001b[0m\n\u001b[0;32m---> 26\u001b[0;31m \u001b[0;32mimport\u001b[0m \u001b[0mtensorflow\u001b[0m\u001b[0;34m.\u001b[0m\u001b[0mcompat\u001b[0m\u001b[0;34m.\u001b[0m\u001b[0mv2\u001b[0m \u001b[0;32mas\u001b[0m \u001b[0mtf\u001b[0m\u001b[0;34m\u001b[0m\u001b[0;34m\u001b[0m\u001b[0m\n\u001b[0m\u001b[1;32m     27\u001b[0m \u001b[0;34m\u001b[0m\u001b[0m\n\u001b[1;32m     28\u001b[0m \u001b[0;32mfrom\u001b[0m \u001b[0mtensorflowjs\u001b[0m \u001b[0;32mimport\u001b[0m \u001b[0mread_weights\u001b[0m\u001b[0;34m\u001b[0m\u001b[0;34m\u001b[0m\u001b[0m\n",
      "\u001b[0;31mModuleNotFoundError\u001b[0m: No module named 'tensorflow.compat'"
     ]
    }
   ],
   "source": [
    "import tensorflowjs as tfjs\n",
    "# tfjs.converters.save_keras_model(model, 'models')"
   ]
  },
  {
   "cell_type": "code",
   "execution_count": null,
   "metadata": {},
   "outputs": [],
   "source": []
  }
 ],
 "metadata": {
  "kernelspec": {
   "display_name": "Python 3",
   "language": "python",
   "name": "python3"
  },
  "language_info": {
   "codemirror_mode": {
    "name": "ipython",
    "version": 3
   },
   "file_extension": ".py",
   "mimetype": "text/x-python",
   "name": "python",
   "nbconvert_exporter": "python",
   "pygments_lexer": "ipython3",
   "version": "3.7.6"
  }
 },
 "nbformat": 4,
 "nbformat_minor": 4
}
