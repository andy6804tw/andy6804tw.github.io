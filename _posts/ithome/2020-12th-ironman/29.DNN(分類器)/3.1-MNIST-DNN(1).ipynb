{
 "cells": [
  {
   "cell_type": "markdown",
   "metadata": {},
   "source": [
    "## 1. Import Library"
   ]
  },
  {
   "cell_type": "code",
   "execution_count": 1,
   "metadata": {},
   "outputs": [],
   "source": [
    "from sklearn.model_selection import train_test_split\n",
    "from sklearn.utils import shuffle\n",
    "import numpy as np\n",
    "import tensorflow as tf\n",
    "from tqdm import tqdm\n",
    "import matplotlib.pyplot as plt"
   ]
  },
  {
   "cell_type": "code",
   "execution_count": 2,
   "metadata": {},
   "outputs": [],
   "source": [
    "# setting hyperparameter\n",
    "batch_size = 32\n",
    "epochs = 1000\n",
    "lr = 0.01\n",
    "train_ratio = 0.9"
   ]
  },
  {
   "cell_type": "markdown",
   "metadata": {},
   "source": [
    "## 2. 匯入MINIST手寫辨識數據集以及資料前處理\n",
    "使用sklearn 8x8 的手寫數字數據集"
   ]
  },
  {
   "cell_type": "code",
   "execution_count": 37,
   "metadata": {},
   "outputs": [
    {
     "name": "stdout",
     "output_type": "stream",
     "text": [
      "Training data shape: (60000, 784)\n",
      "Testing data shape: (10000, 784)\n"
     ]
    }
   ],
   "source": [
    "from tensorflow.keras.datasets import mnist\n",
    "\n",
    "(X_train, y_train), (X_test, y_test) = mnist.load_data()\n",
    "X_train=X_train.reshape(len(X_train),-1)/255\n",
    "X_test=X_test.reshape(len(X_test),-1)/255\n",
    "# one hot encoding\n",
    "y_train_one_hot = np.eye(10)[y_train]\n",
    "y_test_one_hot = np.eye(10)[y_test]\n",
    "\n",
    "print('Training data shape:',X_train.shape)\n",
    "print('Testing data shape:',X_test.shape)"
   ]
  },
  {
   "cell_type": "code",
   "execution_count": 28,
   "metadata": {},
   "outputs": [
    {
     "data": {
      "image/png": "[encoded data removed]",
      "text/plain": [
       "<Figure size 432x288 with 1 Axes>"
      ]
     },
     "metadata": {
      "needs_background": "light"
     },
     "output_type": "display_data"
    },
    {
     "name": "stdout",
     "output_type": "stream",
     "text": [
      "5\n"
     ]
    }
   ],
   "source": [
    "plt.imshow(X_train[0].reshape(28, 28), cmap='gray')\n",
    "plt.show()\n",
    "print(y_train[0])"
   ]
  },
  {
   "cell_type": "markdown",
   "metadata": {},
   "source": [
    "## 3. 建立網路模型"
   ]
  },
  {
   "cell_type": "code",
   "execution_count": 29,
   "metadata": {},
   "outputs": [
    {
     "name": "stdout",
     "output_type": "stream",
     "text": [
      "1.14.0\n"
     ]
    }
   ],
   "source": [
    "import tensorflow as tf\n",
    "from tensorflow import keras\n",
    "from tensorflow.keras.layers import Dense, Activation\n",
    "from tensorflow.keras import Sequential\n",
    "from tensorflow.keras.models import Model\n",
    "from tensorflow.keras.optimizers import Adam\n",
    "\n",
    "print(tf.__version__)"
   ]
  },
  {
   "cell_type": "code",
   "execution_count": 34,
   "metadata": {},
   "outputs": [],
   "source": [
    "# 此範例使用 Tensorflow2.0 Sequential API 搭建神經網路。\n",
    "def build_model():\n",
    "    model = Sequential()\n",
    "    model.add(Dense(25, Activation('relu'), input_dim=X_train.shape[-1]))\n",
    "    model.add(Dense(10, Activation('softmax')))\n",
    "    return model"
   ]
  },
  {
   "cell_type": "code",
   "execution_count": 35,
   "metadata": {},
   "outputs": [
    {
     "name": "stdout",
     "output_type": "stream",
     "text": [
      "Model: \"sequential_5\"\n",
      "_________________________________________________________________\n",
      "Layer (type)                 Output Shape              Param #   \n",
      "=================================================================\n",
      "dense_8 (Dense)              (None, 25)                19625     \n",
      "_________________________________________________________________\n",
      "dense_9 (Dense)              (None, 10)                260       \n",
      "=================================================================\n",
      "Total params: 19,885\n",
      "Trainable params: 19,885\n",
      "Non-trainable params: 0\n",
      "_________________________________________________________________\n"
     ]
    }
   ],
   "source": [
    "model = build_model()\n",
    "model.summary()   # Weights = (64+1)*25+(25+1)*10"
   ]
  },
  {
   "cell_type": "markdown",
   "metadata": {},
   "source": [
    "## 4. 編譯&訓練模型"
   ]
  },
  {
   "cell_type": "code",
   "execution_count": 38,
   "metadata": {},
   "outputs": [
    {
     "name": "stdout",
     "output_type": "stream",
     "text": [
      "Train on 54000 samples, validate on 6000 samples\n",
      "Epoch 1/25\n",
      "54000/54000 [==============================] - 1s 17us/sample - loss: 0.4844 - acc: 0.8655 - val_loss: 0.2282 - val_acc: 0.9387\n",
      "Epoch 2/25\n",
      "54000/54000 [==============================] - 1s 14us/sample - loss: 0.2491 - acc: 0.9287 - val_loss: 0.1913 - val_acc: 0.9450\n",
      "Epoch 3/25\n",
      "54000/54000 [==============================] - 1s 14us/sample - loss: 0.2069 - acc: 0.9407 - val_loss: 0.1617 - val_acc: 0.9562\n",
      "Epoch 4/25\n",
      "54000/54000 [==============================] - 1s 14us/sample - loss: 0.1806 - acc: 0.9479 - val_loss: 0.1524 - val_acc: 0.9592\n",
      "Epoch 5/25\n",
      "54000/54000 [==============================] - 1s 15us/sample - loss: 0.1630 - acc: 0.9534 - val_loss: 0.1389 - val_acc: 0.9608\n",
      "Epoch 6/25\n",
      "54000/54000 [==============================] - 1s 14us/sample - loss: 0.1470 - acc: 0.9579 - val_loss: 0.1358 - val_acc: 0.9625\n",
      "Epoch 7/25\n",
      "54000/54000 [==============================] - 1s 15us/sample - loss: 0.1356 - acc: 0.9611 - val_loss: 0.1330 - val_acc: 0.9630\n",
      "Epoch 8/25\n",
      "54000/54000 [==============================] - 1s 15us/sample - loss: 0.1264 - acc: 0.9628 - val_loss: 0.1265 - val_acc: 0.9640\n",
      "Epoch 9/25\n",
      "54000/54000 [==============================] - 1s 15us/sample - loss: 0.1182 - acc: 0.9658 - val_loss: 0.1255 - val_acc: 0.9643\n",
      "Epoch 10/25\n",
      "54000/54000 [==============================] - 1s 14us/sample - loss: 0.1114 - acc: 0.9674 - val_loss: 0.1243 - val_acc: 0.9653\n",
      "Epoch 11/25\n",
      "54000/54000 [==============================] - 1s 15us/sample - loss: 0.1056 - acc: 0.9687 - val_loss: 0.1245 - val_acc: 0.9653\n",
      "Epoch 12/25\n",
      "54000/54000 [==============================] - 1s 16us/sample - loss: 0.1011 - acc: 0.9700 - val_loss: 0.1233 - val_acc: 0.9655\n",
      "Epoch 13/25\n",
      "54000/54000 [==============================] - 1s 15us/sample - loss: 0.0960 - acc: 0.9715 - val_loss: 0.1244 - val_acc: 0.9668\n",
      "Epoch 14/25\n",
      "54000/54000 [==============================] - 1s 15us/sample - loss: 0.0921 - acc: 0.9727 - val_loss: 0.1270 - val_acc: 0.9665\n",
      "Epoch 15/25\n",
      "54000/54000 [==============================] - 1s 15us/sample - loss: 0.0884 - acc: 0.9733 - val_loss: 0.1220 - val_acc: 0.9658\n",
      "Epoch 16/25\n",
      "54000/54000 [==============================] - 1s 15us/sample - loss: 0.0844 - acc: 0.9746 - val_loss: 0.1269 - val_acc: 0.9658\n",
      "Epoch 17/25\n",
      "54000/54000 [==============================] - 1s 15us/sample - loss: 0.0814 - acc: 0.9757 - val_loss: 0.1222 - val_acc: 0.9665\n",
      "Epoch 18/25\n",
      "54000/54000 [==============================] - 1s 15us/sample - loss: 0.0779 - acc: 0.9765 - val_loss: 0.1209 - val_acc: 0.9673\n",
      "Epoch 19/25\n",
      "54000/54000 [==============================] - 1s 15us/sample - loss: 0.0749 - acc: 0.9771 - val_loss: 0.1266 - val_acc: 0.9653\n",
      "Epoch 20/25\n",
      "54000/54000 [==============================] - 1s 15us/sample - loss: 0.0722 - acc: 0.9779 - val_loss: 0.1242 - val_acc: 0.9663\n",
      "Epoch 21/25\n",
      "54000/54000 [==============================] - 1s 15us/sample - loss: 0.0705 - acc: 0.9789 - val_loss: 0.1283 - val_acc: 0.9678\n",
      "Epoch 22/25\n",
      "54000/54000 [==============================] - 1s 15us/sample - loss: 0.0674 - acc: 0.9794 - val_loss: 0.1254 - val_acc: 0.9647\n",
      "Epoch 23/25\n",
      "54000/54000 [==============================] - 1s 15us/sample - loss: 0.0657 - acc: 0.9802 - val_loss: 0.1251 - val_acc: 0.9692\n",
      "Epoch 24/25\n",
      "54000/54000 [==============================] - 1s 15us/sample - loss: 0.0634 - acc: 0.9811 - val_loss: 0.1347 - val_acc: 0.9650\n",
      "Epoch 25/25\n",
      "54000/54000 [==============================] - 1s 14us/sample - loss: 0.0609 - acc: 0.9814 - val_loss: 0.1256 - val_acc: 0.9672\n"
     ]
    }
   ],
   "source": [
    "# 編譯模型\n",
    "optim = Adam(lr=0.001)\n",
    "model.compile(loss='categorical_crossentropy',\n",
    "              optimizer=optim,\n",
    "              metrics=['acc'])\n",
    "\n",
    "batch_size=64\n",
    "epochs = 25\n",
    "\n",
    "# 訓練模型\n",
    "history = model.fit(X_train, y_train_one_hot,\n",
    "                    batch_size=batch_size,\n",
    "                    epochs=epochs,\n",
    "                    verbose=1,\n",
    "                    shuffle=True,\n",
    "                    validation_split=0.1)\n"
   ]
  },
  {
   "cell_type": "markdown",
   "metadata": {},
   "source": [
    "## 5) 觀察訓練結果"
   ]
  },
  {
   "cell_type": "code",
   "execution_count": 40,
   "metadata": {},
   "outputs": [
    {
     "data": {
      "text/plain": [
       "dict_keys(['loss', 'acc', 'val_loss', 'val_acc'])"
      ]
     },
     "execution_count": 40,
     "metadata": {},
     "output_type": "execute_result"
    }
   ],
   "source": [
    "history_dict = history.history\n",
    "history_dict.keys()"
   ]
  },
  {
   "cell_type": "code",
   "execution_count": 42,
   "metadata": {},
   "outputs": [],
   "source": [
    "import matplotlib.pyplot as plt\n",
    "\n",
    "acc = history_dict['acc']\n",
    "val_acc = history_dict['val_acc']\n",
    "loss = history_dict['loss']\n",
    "val_loss = history_dict['val_loss']\n",
    "epochs_ = range(1,len(acc)+1)"
   ]
  },
  {
   "cell_type": "code",
   "execution_count": 43,
   "metadata": {},
   "outputs": [
    {
     "data": {
      "image/png": "[encoded data removed]",
      "text/plain": [
       "<Figure size 432x288 with 1 Axes>"
      ]
     },
     "metadata": {
      "needs_background": "light"
     },
     "output_type": "display_data"
    }
   ],
   "source": [
    "plt.plot(epochs_ , loss , label = 'training loss')\n",
    "plt.plot(epochs_ , val_loss , label = 'val los')\n",
    "plt.title('training and val loss')\n",
    "plt.xlabel('epochs')\n",
    "plt.ylabel('loss')\n",
    "plt.legend()\n",
    "plt.show()"
   ]
  },
  {
   "cell_type": "code",
   "execution_count": 44,
   "metadata": {},
   "outputs": [
    {
     "data": {
      "image/png": "[encoded data removed]",
      "text/plain": [
       "<Figure size 432x288 with 1 Axes>"
      ]
     },
     "metadata": {
      "needs_background": "light"
     },
     "output_type": "display_data"
    }
   ],
   "source": [
    "plt.clf()\n",
    "plt.plot(epochs_ , acc , label='train accuracy')\n",
    "plt.plot(epochs_ , val_acc , label = 'val accuracy')\n",
    "plt.title('train and val acc')\n",
    "plt.xlabel('epochs')\n",
    "plt.ylabel('acc')\n",
    "plt.legend()\n",
    "plt.show()"
   ]
  },
  {
   "cell_type": "markdown",
   "metadata": {},
   "source": [
    "## 測試集預測"
   ]
  },
  {
   "cell_type": "code",
   "execution_count": 50,
   "metadata": {},
   "outputs": [
    {
     "data": {
      "text/plain": [
       "0.9612"
      ]
     },
     "execution_count": 50,
     "metadata": {},
     "output_type": "execute_result"
    }
   ],
   "source": [
    "from sklearn.metrics import accuracy_score\n",
    "\n",
    "pred =  np.argmax(model.predict(X_test), axis=1)\n",
    "accuracy_score(y_test, pred)"
   ]
  },
  {
   "cell_type": "code",
   "execution_count": 56,
   "metadata": {},
   "outputs": [
    {
     "ename": "NameError",
     "evalue": "name 'prop_class' is not defined",
     "output_type": "error",
     "traceback": [
      "\u001b[0;31m---------------------------------------------------------------------------\u001b[0m",
      "\u001b[0;31mNameError\u001b[0m                                 Traceback (most recent call last)",
      "\u001b[0;32m<ipython-input-56-3842a790a20b>\u001b[0m in \u001b[0;36m<module>\u001b[0;34m\u001b[0m\n\u001b[1;32m      4\u001b[0m \u001b[0;32mfor\u001b[0m \u001b[0mi\u001b[0m \u001b[0;32min\u001b[0m \u001b[0mrange\u001b[0m \u001b[0;34m(\u001b[0m\u001b[0;36m4\u001b[0m\u001b[0;34m)\u001b[0m\u001b[0;34m:\u001b[0m\u001b[0;34m\u001b[0m\u001b[0;34m\u001b[0m\u001b[0m\n\u001b[1;32m      5\u001b[0m     \u001b[0;32mfor\u001b[0m \u001b[0mj\u001b[0m \u001b[0;32min\u001b[0m \u001b[0mrange\u001b[0m \u001b[0;34m(\u001b[0m\u001b[0;36m2\u001b[0m\u001b[0;34m)\u001b[0m\u001b[0;34m:\u001b[0m\u001b[0;34m\u001b[0m\u001b[0;34m\u001b[0m\u001b[0m\n\u001b[0;32m----> 6\u001b[0;31m         \u001b[0max\u001b[0m\u001b[0;34m[\u001b[0m\u001b[0mi\u001b[0m\u001b[0;34m,\u001b[0m\u001b[0mj\u001b[0m\u001b[0;34m]\u001b[0m\u001b[0;34m.\u001b[0m\u001b[0mimshow\u001b[0m\u001b[0;34m(\u001b[0m\u001b[0mx_test\u001b[0m\u001b[0;34m[\u001b[0m\u001b[0mprop_class\u001b[0m\u001b[0;34m[\u001b[0m\u001b[0mcount\u001b[0m\u001b[0;34m]\u001b[0m\u001b[0;34m]\u001b[0m\u001b[0;34m.\u001b[0m\u001b[0mreshape\u001b[0m\u001b[0;34m(\u001b[0m\u001b[0;36m8\u001b[0m\u001b[0;34m,\u001b[0m \u001b[0;36m8\u001b[0m\u001b[0;34m)\u001b[0m\u001b[0;34m,\u001b[0m \u001b[0mcmap\u001b[0m\u001b[0;34m=\u001b[0m\u001b[0;34m'gray'\u001b[0m\u001b[0;34m)\u001b[0m\u001b[0;34m\u001b[0m\u001b[0;34m\u001b[0m\u001b[0m\n\u001b[0m\u001b[1;32m      7\u001b[0m         \u001b[0max\u001b[0m\u001b[0;34m[\u001b[0m\u001b[0mi\u001b[0m\u001b[0;34m,\u001b[0m\u001b[0mj\u001b[0m\u001b[0;34m]\u001b[0m\u001b[0;34m.\u001b[0m\u001b[0mset_title\u001b[0m\u001b[0;34m(\u001b[0m\u001b[0;34m\"Predicted : \"\u001b[0m\u001b[0;34m+\u001b[0m\u001b[0mstr\u001b[0m\u001b[0;34m(\u001b[0m\u001b[0mpred\u001b[0m\u001b[0;34m[\u001b[0m\u001b[0mprop_class\u001b[0m\u001b[0;34m[\u001b[0m\u001b[0mcount\u001b[0m\u001b[0;34m]\u001b[0m\u001b[0;34m]\u001b[0m\u001b[0;34m)\u001b[0m\u001b[0;34m+\u001b[0m\u001b[0;34m\"\\n\"\u001b[0m\u001b[0;34m+\u001b[0m\u001b[0;34m\"Actual : \"\u001b[0m\u001b[0;34m+\u001b[0m\u001b[0mstr\u001b[0m\u001b[0;34m(\u001b[0m\u001b[0my_test_label\u001b[0m\u001b[0;34m[\u001b[0m\u001b[0mprop_class\u001b[0m\u001b[0;34m[\u001b[0m\u001b[0mcount\u001b[0m\u001b[0;34m]\u001b[0m\u001b[0;34m]\u001b[0m\u001b[0;34m)\u001b[0m\u001b[0;34m)\u001b[0m\u001b[0;34m\u001b[0m\u001b[0;34m\u001b[0m\u001b[0m\n\u001b[1;32m      8\u001b[0m         \u001b[0mplt\u001b[0m\u001b[0;34m.\u001b[0m\u001b[0mtight_layout\u001b[0m\u001b[0;34m(\u001b[0m\u001b[0;34m)\u001b[0m\u001b[0;34m\u001b[0m\u001b[0;34m\u001b[0m\u001b[0m\n",
      "\u001b[0;31mNameError\u001b[0m: name 'prop_class' is not defined"
     ]
    },
    {
     "data": {
      "image/png": "[encoded data removed]",
      "text/plain": [
       "<Figure size 1080x1080 with 8 Axes>"
      ]
     },
     "metadata": {
      "needs_background": "light"
     },
     "output_type": "display_data"
    }
   ],
   "source": [
    "count=0\n",
    "fig,ax=plt.subplots(4,2)\n",
    "fig.set_size_inches(15,15)\n",
    "for i in range (4):\n",
    "    for j in range (2):\n",
    "        ax[i,j].imshow(x_test[prop_class[count]].reshape(8, 8), cmap='gray')\n",
    "        ax[i,j].set_title(\"Predicted : \"+str(pred[prop_class[count]])+\"\\n\"+\"Actual : \"+str(y_test_label[prop_class[count]]))\n",
    "        plt.tight_layout()\n",
    "        count+=1"
   ]
  },
  {
   "cell_type": "code",
   "execution_count": 14,
   "metadata": {},
   "outputs": [
    {
     "data": {
      "image/png": "[encoded data removed]",
      "text/plain": [
       "<Figure size 432x288 with 1 Axes>"
      ]
     },
     "metadata": {
      "needs_background": "light"
     },
     "output_type": "display_data"
    }
   ],
   "source": [
    "\n",
    "plt.imshow(x_test[mis_class[0]].reshape(8, 8), cmap='gray')\n",
    "plt.title(\"Predicted : \"+str(pred[mis_class[0]])+\"\\n\"+\"Actual : \"+str(y_test_label[mis_class[0]]))\n",
    "plt.show()"
   ]
  },
  {
   "cell_type": "code",
   "execution_count": null,
   "metadata": {},
   "outputs": [],
   "source": []
  }
 ],
 "metadata": {
  "kernelspec": {
   "display_name": "Python 3",
   "language": "python",
   "name": "python3"
  },
  "language_info": {
   "codemirror_mode": {
    "name": "ipython",
    "version": 3
   },
   "file_extension": ".py",
   "mimetype": "text/x-python",
   "name": "python",
   "nbconvert_exporter": "python",
   "pygments_lexer": "ipython3",
   "version": "3.7.6"
  }
 },
 "nbformat": 4,
 "nbformat_minor": 4
}
