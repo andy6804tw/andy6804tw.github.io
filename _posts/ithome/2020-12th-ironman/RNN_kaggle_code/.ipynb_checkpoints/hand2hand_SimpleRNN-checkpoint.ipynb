{
 "cells": [
  {
   "cell_type": "markdown",
   "metadata": {},
   "source": [
    "### Kaggle AIA Forex Prediction 手把手\n",
    "1. 讀取資料\n",
    "2. 資料預處理\n",
    "3. 建立模型\n",
    "4. 訓練模型\n",
    "5. 評估模型準確率\n",
    "6. 輸出成果"
   ]
  },
  {
   "cell_type": "markdown",
   "metadata": {},
   "source": [
    "### - 匯入套件"
   ]
  },
  {
   "cell_type": "code",
   "execution_count": 1,
   "metadata": {},
   "outputs": [],
   "source": [
    "import numpy as np\n",
    "import pandas as pd\n",
    "import matplotlib.pyplot as plt\n",
    "import tensorflow as tf\n",
    "from tensorflow.keras import layers\n",
    "%matplotlib inline"
   ]
  },
  {
   "cell_type": "markdown",
   "metadata": {},
   "source": [
    "### - 讀取資料"
   ]
  },
  {
   "cell_type": "code",
   "execution_count": 2,
   "metadata": {},
   "outputs": [],
   "source": [
    "train = pd.read_csv('training_set.csv')\n",
    "submit = pd.read_csv('sampleSubmission.csv')"
   ]
  },
  {
   "cell_type": "code",
   "execution_count": 3,
   "metadata": {},
   "outputs": [
    {
     "name": "stdout",
     "output_type": "stream",
     "text": [
      "(74278, 7)\n",
      "(30, 2)\n"
     ]
    }
   ],
   "source": [
    "print(train.shape)\n",
    "print(submit.shape)"
   ]
  },
  {
   "cell_type": "code",
   "execution_count": 4,
   "metadata": {},
   "outputs": [
    {
     "data": {
      "text/html": [
       "<div>\n",
       "<style scoped>\n",
       "    .dataframe tbody tr th:only-of-type {\n",
       "        vertical-align: middle;\n",
       "    }\n",
       "\n",
       "    .dataframe tbody tr th {\n",
       "        vertical-align: top;\n",
       "    }\n",
       "\n",
       "    .dataframe thead th {\n",
       "        text-align: right;\n",
       "    }\n",
       "</style>\n",
       "<table border=\"1\" class=\"dataframe\">\n",
       "  <thead>\n",
       "    <tr style=\"text-align: right;\">\n",
       "      <th></th>\n",
       "      <th>Time</th>\n",
       "      <th>Weekday</th>\n",
       "      <th>Open</th>\n",
       "      <th>High</th>\n",
       "      <th>Low</th>\n",
       "      <th>Close</th>\n",
       "      <th>Volume</th>\n",
       "    </tr>\n",
       "  </thead>\n",
       "  <tbody>\n",
       "    <tr>\n",
       "      <th>0</th>\n",
       "      <td>170 05:00:00</td>\n",
       "      <td>0</td>\n",
       "      <td>1.12053</td>\n",
       "      <td>1.12079</td>\n",
       "      <td>1.12050</td>\n",
       "      <td>1.12067</td>\n",
       "      <td>302.690002</td>\n",
       "    </tr>\n",
       "    <tr>\n",
       "      <th>1</th>\n",
       "      <td>170 05:10:00</td>\n",
       "      <td>0</td>\n",
       "      <td>1.12066</td>\n",
       "      <td>1.12074</td>\n",
       "      <td>1.12051</td>\n",
       "      <td>1.12070</td>\n",
       "      <td>486.690001</td>\n",
       "    </tr>\n",
       "    <tr>\n",
       "      <th>2</th>\n",
       "      <td>170 05:20:00</td>\n",
       "      <td>0</td>\n",
       "      <td>1.12070</td>\n",
       "      <td>1.12071</td>\n",
       "      <td>1.12065</td>\n",
       "      <td>1.12070</td>\n",
       "      <td>212.120000</td>\n",
       "    </tr>\n",
       "    <tr>\n",
       "      <th>3</th>\n",
       "      <td>170 05:30:00</td>\n",
       "      <td>0</td>\n",
       "      <td>1.12070</td>\n",
       "      <td>1.12072</td>\n",
       "      <td>1.12050</td>\n",
       "      <td>1.12061</td>\n",
       "      <td>811.989999</td>\n",
       "    </tr>\n",
       "    <tr>\n",
       "      <th>4</th>\n",
       "      <td>170 05:40:00</td>\n",
       "      <td>0</td>\n",
       "      <td>1.12060</td>\n",
       "      <td>1.12079</td>\n",
       "      <td>1.12027</td>\n",
       "      <td>1.12029</td>\n",
       "      <td>502.870001</td>\n",
       "    </tr>\n",
       "  </tbody>\n",
       "</table>\n",
       "</div>"
      ],
      "text/plain": [
       "           Time  Weekday     Open     High      Low    Close      Volume\n",
       "0  170 05:00:00        0  1.12053  1.12079  1.12050  1.12067  302.690002\n",
       "1  170 05:10:00        0  1.12066  1.12074  1.12051  1.12070  486.690001\n",
       "2  170 05:20:00        0  1.12070  1.12071  1.12065  1.12070  212.120000\n",
       "3  170 05:30:00        0  1.12070  1.12072  1.12050  1.12061  811.989999\n",
       "4  170 05:40:00        0  1.12060  1.12079  1.12027  1.12029  502.870001"
      ]
     },
     "execution_count": 4,
     "metadata": {},
     "output_type": "execute_result"
    }
   ],
   "source": [
    "train.head()"
   ]
  },
  {
   "cell_type": "code",
   "execution_count": 5,
   "metadata": {},
   "outputs": [
    {
     "data": {
      "text/plain": [
       "(74278, 7)"
      ]
     },
     "execution_count": 5,
     "metadata": {},
     "output_type": "execute_result"
    }
   ],
   "source": [
    "train.shape"
   ]
  },
  {
   "cell_type": "code",
   "execution_count": 6,
   "metadata": {},
   "outputs": [
    {
     "data": {
      "text/plain": [
       "Index(['Time', 'Weekday', 'Open', 'High', 'Low', 'Close', 'Volume'], dtype='object')"
      ]
     },
     "execution_count": 6,
     "metadata": {},
     "output_type": "execute_result"
    }
   ],
   "source": [
    "train.columns"
   ]
  },
  {
   "cell_type": "markdown",
   "metadata": {},
   "source": [
    "### - 資料預處理"
   ]
  },
  {
   "cell_type": "code",
   "execution_count": 7,
   "metadata": {},
   "outputs": [
    {
     "data": {
      "text/plain": [
       "Time       0\n",
       "Weekday    0\n",
       "Open       0\n",
       "High       0\n",
       "Low        0\n",
       "Close      0\n",
       "Volume     0\n",
       "dtype: int64"
      ]
     },
     "execution_count": 7,
     "metadata": {},
     "output_type": "execute_result"
    }
   ],
   "source": [
    "train.isna().sum()"
   ]
  },
  {
   "cell_type": "code",
   "execution_count": 8,
   "metadata": {},
   "outputs": [],
   "source": [
    "close = train['Close']\n",
    "target_list = np.expand_dims(close.values,axis=1) # 展開維度成兩維 (總數,feature數)\n",
    "# 也可以直接reshape(-1,1) X = X.values.reshape(-1,1)"
   ]
  },
  {
   "cell_type": "code",
   "execution_count": 9,
   "metadata": {},
   "outputs": [
    {
     "data": {
      "text/plain": [
       "(74278, 1)"
      ]
     },
     "execution_count": 9,
     "metadata": {},
     "output_type": "execute_result"
    }
   ],
   "source": [
    "target_list.shape"
   ]
  },
  {
   "cell_type": "code",
   "execution_count": 10,
   "metadata": {},
   "outputs": [],
   "source": [
    "time = train['Time'].values"
   ]
  },
  {
   "cell_type": "code",
   "execution_count": 11,
   "metadata": {},
   "outputs": [
    {
     "data": {
      "image/png": "[encoded data removed]",
      "text/plain": [
       "<Figure size 1080x504 with 1 Axes>"
      ]
     },
     "metadata": {
      "needs_background": "light"
     },
     "output_type": "display_data"
    }
   ],
   "source": [
    "plt.figure(figsize = (15,7))\n",
    "plt.plot(\n",
    "    np.arange(len(close)),\n",
    "    close,\n",
    "    label = 'Close',\n",
    ")\n",
    "plt.xticks(np.arange(len(close))[::5000], train['Time'][::5000], rotation = 'vertical') # 如果只是看趨勢，也可以不畫X軸資訊，但如果要加建議設個間隔，避免畫面擠滿文數字\n",
    "plt.grid()\n",
    "plt.show()"
   ]
  },
  {
   "cell_type": "code",
   "execution_count": 12,
   "metadata": {},
   "outputs": [],
   "source": [
    "# drop掉不用的Feature，資料已有時間序列排序，不需要再對時間日期做調整\n",
    "train = train.drop(['Time','Weekday'], axis=1).values"
   ]
  },
  {
   "cell_type": "code",
   "execution_count": 13,
   "metadata": {},
   "outputs": [
    {
     "data": {
      "text/plain": [
       "(74278, 5)"
      ]
     },
     "execution_count": 13,
     "metadata": {},
     "output_type": "execute_result"
    }
   ],
   "source": [
    "train.shape"
   ]
  },
  {
   "cell_type": "code",
   "execution_count": 14,
   "metadata": {},
   "outputs": [],
   "source": [
    "def window_train (data, target, window_size,predict_length=1):\n",
    "    X_train,y_train = [],[]\n",
    "    for i in range(len(data) - (window_size+predict_length) + 1):\n",
    "        X_train.append(data[i:i+window_size])   \n",
    "        y_train.append(target[i+window_size:i+window_size+predict_length])\n",
    "    X_train = np.array(X_train)\n",
    "    y_train = np.array(y_train)\n",
    "    return X_train,y_train"
   ]
  },
  {
   "cell_type": "code",
   "execution_count": 15,
   "metadata": {},
   "outputs": [],
   "source": [
    "window_size = 6\n",
    "X,y = window_train(train, target_list, window_size)"
   ]
  },
  {
   "cell_type": "code",
   "execution_count": 16,
   "metadata": {},
   "outputs": [
    {
     "data": {
      "text/plain": [
       "(74272, 6, 5)"
      ]
     },
     "execution_count": 16,
     "metadata": {},
     "output_type": "execute_result"
    }
   ],
   "source": [
    "X.shape # (總數,window_size,feature數)"
   ]
  },
  {
   "cell_type": "code",
   "execution_count": 17,
   "metadata": {},
   "outputs": [
    {
     "data": {
      "text/plain": [
       "(74272, 1, 1)"
      ]
     },
     "execution_count": 17,
     "metadata": {},
     "output_type": "execute_result"
    }
   ],
   "source": [
    "y.shape"
   ]
  },
  {
   "cell_type": "code",
   "execution_count": 18,
   "metadata": {},
   "outputs": [
    {
     "name": "stdout",
     "output_type": "stream",
     "text": [
      "(74272, 6)\n",
      "(74272, 6, 1)\n"
     ]
    }
   ],
   "source": [
    "# 0:Open,1:High,2:Low,3:Close,4:Volume\n",
    "X = X[:,:,3]          # 只取Close (第三個column)\n",
    "print(X.shape)\n",
    "X = X[:,:,np.newaxis] # 展維度\n",
    "print(X.shape)"
   ]
  },
  {
   "cell_type": "code",
   "execution_count": 19,
   "metadata": {},
   "outputs": [
    {
     "name": "stdout",
     "output_type": "stream",
     "text": [
      "X_train size: (70000, 6, 1)\n",
      "y_train size: (70000, 1, 1)\n",
      "X_test size: (4272, 6, 1)\n",
      "y_test size: (4272, 1, 1)\n"
     ]
    }
   ],
   "source": [
    "# 前七萬筆當作訓練資料\n",
    "X_train = X[:70000]\n",
    "y_train = y[:70000]\n",
    "\n",
    "# 七萬筆後當驗證資料\n",
    "X_valid = X[70000:]\n",
    "y_valid = y[70000:]\n",
    "\n",
    "print(\"X_train size: {}\".format(X_train.shape))\n",
    "print(\"y_train size: {}\".format(y_train.shape))\n",
    "print(\"X_test size: {}\".format(X_valid.shape))\n",
    "print(\"y_test size: {}\".format(y_valid.shape))"
   ]
  },
  {
   "cell_type": "markdown",
   "metadata": {},
   "source": [
    "## 建立、訓練模型"
   ]
  },
  {
   "cell_type": "code",
   "execution_count": 20,
   "metadata": {},
   "outputs": [],
   "source": [
    "from tensorflow.python.keras.models import Sequential\n",
    "from tensorflow.python.keras.layers import Dense, Dropout, LSTM, SimpleRNN\n",
    "from tensorflow.python.keras.layers import TimeDistributed, Flatten\n",
    "from tensorflow.keras.optimizers import Adam"
   ]
  },
  {
   "cell_type": "code",
   "execution_count": 21,
   "metadata": {},
   "outputs": [],
   "source": [
    "model = tf.keras.Sequential()\n",
    "model.add(SimpleRNN(units=32,activation='relu',return_sequences=True))\n",
    "model.add(Flatten())\n",
    "model.add(Dense(units=1))"
   ]
  },
  {
   "cell_type": "code",
   "execution_count": 22,
   "metadata": {},
   "outputs": [],
   "source": [
    "opt = Adam(lr=0.001, decay=1e-6, clipvalue=5) # https://wulc.me/2018/05/01/%E6%A2%AF%E5%BA%A6%E8%A3%81%E5%89%AA%E5%8F%8A%E5%85%B6%E4%BD%9C%E7%94%A8/\n",
    "\n",
    "model.compile(loss='mae', optimizer=opt, metrics=['mae'])"
   ]
  },
  {
   "cell_type": "code",
   "execution_count": 23,
   "metadata": {},
   "outputs": [
    {
     "name": "stdout",
     "output_type": "stream",
     "text": [
      "Train on 70000 samples, validate on 4272 samples\n",
      "Epoch 1/10\n",
      "70000/70000 [==============================] - 11s 162us/sample - loss: 0.0136 - mae: 0.0136 - val_loss: 0.0070 - val_mae: 0.0070\n",
      "Epoch 2/10\n",
      "70000/70000 [==============================] - 10s 138us/sample - loss: 0.0049 - mae: 0.0049 - val_loss: 0.0013 - val_mae: 0.0013\n",
      "Epoch 3/10\n",
      "70000/70000 [==============================] - 10s 138us/sample - loss: 0.0041 - mae: 0.0041 - val_loss: 0.0017 - val_mae: 0.0017\n",
      "Epoch 4/10\n",
      "70000/70000 [==============================] - 10s 138us/sample - loss: 0.0035 - mae: 0.0035 - val_loss: 0.0036 - val_mae: 0.0036\n",
      "Epoch 5/10\n",
      "70000/70000 [==============================] - 10s 138us/sample - loss: 0.0032 - mae: 0.0032 - val_loss: 0.0047 - val_mae: 0.0047\n",
      "Epoch 6/10\n",
      "70000/70000 [==============================] - 10s 137us/sample - loss: 0.0027 - mae: 0.0027 - val_loss: 6.1658e-04 - val_mae: 6.1658e-04\n",
      "Epoch 7/10\n",
      "70000/70000 [==============================] - 10s 137us/sample - loss: 0.0028 - mae: 0.0028 - val_loss: 0.0050 - val_mae: 0.0050\n",
      "Epoch 8/10\n",
      "70000/70000 [==============================] - 10s 137us/sample - loss: 0.0030 - mae: 0.0030 - val_loss: 0.0013 - val_mae: 0.0013\n",
      "Epoch 9/10\n",
      "70000/70000 [==============================] - 10s 138us/sample - loss: 0.0024 - mae: 0.0024 - val_loss: 0.0021 - val_mae: 0.0021\n",
      "Epoch 10/10\n",
      "70000/70000 [==============================] - 10s 138us/sample - loss: 0.0022 - mae: 0.0022 - val_loss: 0.0011 - val_mae: 0.0011\n"
     ]
    },
    {
     "data": {
      "text/plain": [
       "<tensorflow.python.keras.callbacks.History at 0x7fc407c668d0>"
      ]
     },
     "execution_count": 23,
     "metadata": {},
     "output_type": "execute_result"
    }
   ],
   "source": [
    "model.fit(X_train, y_train, epochs=10, validation_data=(X_valid,y_valid))"
   ]
  },
  {
   "cell_type": "code",
   "execution_count": 24,
   "metadata": {},
   "outputs": [
    {
     "name": "stdout",
     "output_type": "stream",
     "text": [
      "Model: \"sequential\"\n",
      "_________________________________________________________________\n",
      "Layer (type)                 Output Shape              Param #   \n",
      "=================================================================\n",
      "simple_rnn (SimpleRNN)       multiple                  1088      \n",
      "_________________________________________________________________\n",
      "flatten (Flatten)            multiple                  0         \n",
      "_________________________________________________________________\n",
      "dense (Dense)                multiple                  193       \n",
      "=================================================================\n",
      "Total params: 1,281\n",
      "Trainable params: 1,281\n",
      "Non-trainable params: 0\n",
      "_________________________________________________________________\n"
     ]
    }
   ],
   "source": [
    "model.summary()"
   ]
  },
  {
   "cell_type": "markdown",
   "metadata": {},
   "source": [
    "## 評估模型準確率"
   ]
  },
  {
   "cell_type": "code",
   "execution_count": 25,
   "metadata": {},
   "outputs": [],
   "source": [
    "valid_pred = model.predict(X_valid)"
   ]
  },
  {
   "cell_type": "code",
   "execution_count": 26,
   "metadata": {},
   "outputs": [
    {
     "data": {
      "image/png": "[encoded data removed]",
      "text/plain": [
       "<Figure size 1080x504 with 1 Axes>"
      ]
     },
     "metadata": {
      "needs_background": "light"
     },
     "output_type": "display_data"
    }
   ],
   "source": [
    "plt.figure(figsize=(15,7))\n",
    "plt.plot(np.squeeze(valid_pred),label='pred')\n",
    "plt.plot(np.squeeze(y_valid),label='Original')\n",
    "plt.legend()\n",
    "plt.show()"
   ]
  },
  {
   "cell_type": "markdown",
   "metadata": {},
   "source": [
    "## 預測資料"
   ]
  },
  {
   "cell_type": "code",
   "execution_count": 27,
   "metadata": {},
   "outputs": [
    {
     "name": "stdout",
     "output_type": "stream",
     "text": [
      "(6,)\n",
      "[1.12704 1.12665 1.12719 1.12697 1.12676 1.12672]\n"
     ]
    }
   ],
   "source": [
    "# 取X中最後一組資料筆數\n",
    "test_data = np.array([i[0] for i in X[-1]])\n",
    "print(test_data.shape)\n",
    "print(test_data)"
   ]
  },
  {
   "cell_type": "code",
   "execution_count": 28,
   "metadata": {},
   "outputs": [
    {
     "name": "stdout",
     "output_type": "stream",
     "text": [
      "(7,)\n",
      "[1.12704 1.12665 1.12719 1.12697 1.12676 1.12672 1.12643]\n"
     ]
    }
   ],
   "source": [
    "# 將資料最後一筆做串接用於預測下一筆資料\n",
    "test_data = np.append(test_data,y[-1])\n",
    "print(test_data.shape)\n",
    "print(test_data)"
   ]
  },
  {
   "cell_type": "code",
   "execution_count": 29,
   "metadata": {
    "collapsed": true,
    "jupyter": {
     "outputs_hidden": true
    }
   },
   "outputs": [
    {
     "name": "stdout",
     "output_type": "stream",
     "text": [
      "0\n",
      "[1.12665 1.12719 1.12697 1.12676 1.12672 1.12643]\n",
      "pred:  [[1.1257585]]\n",
      "new data:  [1.12704    1.12665    1.12719    1.12697    1.12676    1.12672\n",
      " 1.12643    1.12575853]\n",
      "1\n",
      "[1.12719    1.12697    1.12676    1.12672    1.12643    1.12575853]\n",
      "pred:  [[1.1257068]]\n",
      "new data:  [1.12704    1.12665    1.12719    1.12697    1.12676    1.12672\n",
      " 1.12643    1.12575853 1.12570679]\n",
      "2\n",
      "[1.12697    1.12676    1.12672    1.12643    1.12575853 1.12570679]\n",
      "pred:  [[1.1254932]]\n",
      "new data:  [1.12704    1.12665    1.12719    1.12697    1.12676    1.12672\n",
      " 1.12643    1.12575853 1.12570679 1.12549317]\n",
      "3\n",
      "[1.12676    1.12672    1.12643    1.12575853 1.12570679 1.12549317]\n",
      "pred:  [[1.1252575]]\n",
      "new data:  [1.12704    1.12665    1.12719    1.12697    1.12676    1.12672\n",
      " 1.12643    1.12575853 1.12570679 1.12549317 1.12525749]\n",
      "4\n",
      "[1.12672    1.12643    1.12575853 1.12570679 1.12549317 1.12525749]\n",
      "pred:  [[1.1250198]]\n",
      "new data:  [1.12704    1.12665    1.12719    1.12697    1.12676    1.12672\n",
      " 1.12643    1.12575853 1.12570679 1.12549317 1.12525749 1.12501979]\n",
      "5\n",
      "[1.12643    1.12575853 1.12570679 1.12549317 1.12525749 1.12501979]\n",
      "pred:  [[1.1247106]]\n",
      "new data:  [1.12704    1.12665    1.12719    1.12697    1.12676    1.12672\n",
      " 1.12643    1.12575853 1.12570679 1.12549317 1.12525749 1.12501979\n",
      " 1.12471056]\n",
      "6\n",
      "[1.12575853 1.12570679 1.12549317 1.12525749 1.12501979 1.12471056]\n",
      "pred:  [[1.1243902]]\n",
      "new data:  [1.12704    1.12665    1.12719    1.12697    1.12676    1.12672\n",
      " 1.12643    1.12575853 1.12570679 1.12549317 1.12525749 1.12501979\n",
      " 1.12471056 1.12439024]\n",
      "7\n",
      "[1.12570679 1.12549317 1.12525749 1.12501979 1.12471056 1.12439024]\n",
      "pred:  [[1.1241926]]\n",
      "new data:  [1.12704    1.12665    1.12719    1.12697    1.12676    1.12672\n",
      " 1.12643    1.12575853 1.12570679 1.12549317 1.12525749 1.12501979\n",
      " 1.12471056 1.12439024 1.1241926 ]\n",
      "8\n",
      "[1.12549317 1.12525749 1.12501979 1.12471056 1.12439024 1.1241926 ]\n",
      "pred:  [[1.1239512]]\n",
      "new data:  [1.12704    1.12665    1.12719    1.12697    1.12676    1.12672\n",
      " 1.12643    1.12575853 1.12570679 1.12549317 1.12525749 1.12501979\n",
      " 1.12471056 1.12439024 1.1241926  1.1239512 ]\n",
      "9\n",
      "[1.12525749 1.12501979 1.12471056 1.12439024 1.1241926  1.1239512 ]\n",
      "pred:  [[1.1236949]]\n",
      "new data:  [1.12704    1.12665    1.12719    1.12697    1.12676    1.12672\n",
      " 1.12643    1.12575853 1.12570679 1.12549317 1.12525749 1.12501979\n",
      " 1.12471056 1.12439024 1.1241926  1.1239512  1.1236949 ]\n",
      "10\n",
      "[1.12501979 1.12471056 1.12439024 1.1241926  1.1239512  1.1236949 ]\n",
      "pred:  [[1.123432]]\n",
      "new data:  [1.12704    1.12665    1.12719    1.12697    1.12676    1.12672\n",
      " 1.12643    1.12575853 1.12570679 1.12549317 1.12525749 1.12501979\n",
      " 1.12471056 1.12439024 1.1241926  1.1239512  1.1236949  1.12343204]\n",
      "11\n",
      "[1.12471056 1.12439024 1.1241926  1.1239512  1.1236949  1.12343204]\n",
      "pred:  [[1.1231595]]\n",
      "new data:  [1.12704    1.12665    1.12719    1.12697    1.12676    1.12672\n",
      " 1.12643    1.12575853 1.12570679 1.12549317 1.12525749 1.12501979\n",
      " 1.12471056 1.12439024 1.1241926  1.1239512  1.1236949  1.12343204\n",
      " 1.12315953]\n",
      "12\n",
      "[1.12439024 1.1241926  1.1239512  1.1236949  1.12343204 1.12315953]\n",
      "pred:  [[1.1228989]]\n",
      "new data:  [1.12704    1.12665    1.12719    1.12697    1.12676    1.12672\n",
      " 1.12643    1.12575853 1.12570679 1.12549317 1.12525749 1.12501979\n",
      " 1.12471056 1.12439024 1.1241926  1.1239512  1.1236949  1.12343204\n",
      " 1.12315953 1.12289894]\n",
      "13\n",
      "[1.1241926  1.1239512  1.1236949  1.12343204 1.12315953 1.12289894]\n",
      "pred:  [[1.1226597]]\n",
      "new data:  [1.12704    1.12665    1.12719    1.12697    1.12676    1.12672\n",
      " 1.12643    1.12575853 1.12570679 1.12549317 1.12525749 1.12501979\n",
      " 1.12471056 1.12439024 1.1241926  1.1239512  1.1236949  1.12343204\n",
      " 1.12315953 1.12289894 1.12265968]\n",
      "14\n",
      "[1.1239512  1.1236949  1.12343204 1.12315953 1.12289894 1.12265968]\n",
      "pred:  [[1.1224071]]\n",
      "new data:  [1.12704    1.12665    1.12719    1.12697    1.12676    1.12672\n",
      " 1.12643    1.12575853 1.12570679 1.12549317 1.12525749 1.12501979\n",
      " 1.12471056 1.12439024 1.1241926  1.1239512  1.1236949  1.12343204\n",
      " 1.12315953 1.12289894 1.12265968 1.12240708]\n",
      "15\n",
      "[1.1236949  1.12343204 1.12315953 1.12289894 1.12265968 1.12240708]\n",
      "pred:  [[1.122149]]\n",
      "new data:  [1.12704    1.12665    1.12719    1.12697    1.12676    1.12672\n",
      " 1.12643    1.12575853 1.12570679 1.12549317 1.12525749 1.12501979\n",
      " 1.12471056 1.12439024 1.1241926  1.1239512  1.1236949  1.12343204\n",
      " 1.12315953 1.12289894 1.12265968 1.12240708 1.12214899]\n",
      "16\n",
      "[1.12343204 1.12315953 1.12289894 1.12265968 1.12240708 1.12214899]\n",
      "pred:  [[1.12189]]\n",
      "new data:  [1.12704    1.12665    1.12719    1.12697    1.12676    1.12672\n",
      " 1.12643    1.12575853 1.12570679 1.12549317 1.12525749 1.12501979\n",
      " 1.12471056 1.12439024 1.1241926  1.1239512  1.1236949  1.12343204\n",
      " 1.12315953 1.12289894 1.12265968 1.12240708 1.12214899 1.12188995]\n",
      "17\n",
      "[1.12315953 1.12289894 1.12265968 1.12240708 1.12214899 1.12188995]\n",
      "pred:  [[1.121632]]\n",
      "new data:  [1.12704    1.12665    1.12719    1.12697    1.12676    1.12672\n",
      " 1.12643    1.12575853 1.12570679 1.12549317 1.12525749 1.12501979\n",
      " 1.12471056 1.12439024 1.1241926  1.1239512  1.1236949  1.12343204\n",
      " 1.12315953 1.12289894 1.12265968 1.12240708 1.12214899 1.12188995\n",
      " 1.12163198]\n",
      "18\n",
      "[1.12289894 1.12265968 1.12240708 1.12214899 1.12188995 1.12163198]\n",
      "pred:  [[1.121379]]\n",
      "new data:  [1.12704    1.12665    1.12719    1.12697    1.12676    1.12672\n",
      " 1.12643    1.12575853 1.12570679 1.12549317 1.12525749 1.12501979\n",
      " 1.12471056 1.12439024 1.1241926  1.1239512  1.1236949  1.12343204\n",
      " 1.12315953 1.12289894 1.12265968 1.12240708 1.12214899 1.12188995\n",
      " 1.12163198 1.12137902]\n",
      "19\n",
      "[1.12265968 1.12240708 1.12214899 1.12188995 1.12163198 1.12137902]\n",
      "pred:  [[1.1211287]]\n",
      "new data:  [1.12704    1.12665    1.12719    1.12697    1.12676    1.12672\n",
      " 1.12643    1.12575853 1.12570679 1.12549317 1.12525749 1.12501979\n",
      " 1.12471056 1.12439024 1.1241926  1.1239512  1.1236949  1.12343204\n",
      " 1.12315953 1.12289894 1.12265968 1.12240708 1.12214899 1.12188995\n",
      " 1.12163198 1.12137902 1.12112868]\n",
      "20\n",
      "[1.12240708 1.12214899 1.12188995 1.12163198 1.12137902 1.12112868]\n",
      "pred:  [[1.1208743]]\n",
      "new data:  [1.12704    1.12665    1.12719    1.12697    1.12676    1.12672\n",
      " 1.12643    1.12575853 1.12570679 1.12549317 1.12525749 1.12501979\n",
      " 1.12471056 1.12439024 1.1241926  1.1239512  1.1236949  1.12343204\n",
      " 1.12315953 1.12289894 1.12265968 1.12240708 1.12214899 1.12188995\n",
      " 1.12163198 1.12137902 1.12112868 1.12087429]\n",
      "21\n",
      "[1.12214899 1.12188995 1.12163198 1.12137902 1.12112868 1.12087429]\n",
      "pred:  [[1.1206189]]\n",
      "new data:  [1.12704    1.12665    1.12719    1.12697    1.12676    1.12672\n",
      " 1.12643    1.12575853 1.12570679 1.12549317 1.12525749 1.12501979\n",
      " 1.12471056 1.12439024 1.1241926  1.1239512  1.1236949  1.12343204\n",
      " 1.12315953 1.12289894 1.12265968 1.12240708 1.12214899 1.12188995\n",
      " 1.12163198 1.12137902 1.12112868 1.12087429 1.12061894]\n",
      "22\n",
      "[1.12188995 1.12163198 1.12137902 1.12112868 1.12087429 1.12061894]\n",
      "pred:  [[1.120364]]\n",
      "new data:  [1.12704    1.12665    1.12719    1.12697    1.12676    1.12672\n",
      " 1.12643    1.12575853 1.12570679 1.12549317 1.12525749 1.12501979\n",
      " 1.12471056 1.12439024 1.1241926  1.1239512  1.1236949  1.12343204\n",
      " 1.12315953 1.12289894 1.12265968 1.12240708 1.12214899 1.12188995\n",
      " 1.12163198 1.12137902 1.12112868 1.12087429 1.12061894 1.12036395]\n",
      "23\n",
      "[1.12163198 1.12137902 1.12112868 1.12087429 1.12061894 1.12036395]\n",
      "pred:  [[1.1201103]]\n",
      "new data:  [1.12704    1.12665    1.12719    1.12697    1.12676    1.12672\n",
      " 1.12643    1.12575853 1.12570679 1.12549317 1.12525749 1.12501979\n",
      " 1.12471056 1.12439024 1.1241926  1.1239512  1.1236949  1.12343204\n",
      " 1.12315953 1.12289894 1.12265968 1.12240708 1.12214899 1.12188995\n",
      " 1.12163198 1.12137902 1.12112868 1.12087429 1.12061894 1.12036395\n",
      " 1.12011027]\n",
      "24\n",
      "[1.12137902 1.12112868 1.12087429 1.12061894 1.12036395 1.12011027]\n",
      "pred:  [[1.1198579]]\n",
      "new data:  [1.12704    1.12665    1.12719    1.12697    1.12676    1.12672\n",
      " 1.12643    1.12575853 1.12570679 1.12549317 1.12525749 1.12501979\n",
      " 1.12471056 1.12439024 1.1241926  1.1239512  1.1236949  1.12343204\n",
      " 1.12315953 1.12289894 1.12265968 1.12240708 1.12214899 1.12188995\n",
      " 1.12163198 1.12137902 1.12112868 1.12087429 1.12061894 1.12036395\n",
      " 1.12011027 1.11985791]\n",
      "25\n",
      "[1.12112868 1.12087429 1.12061894 1.12036395 1.12011027 1.11985791]\n",
      "pred:  [[1.1196057]]\n",
      "new data:  [1.12704    1.12665    1.12719    1.12697    1.12676    1.12672\n",
      " 1.12643    1.12575853 1.12570679 1.12549317 1.12525749 1.12501979\n",
      " 1.12471056 1.12439024 1.1241926  1.1239512  1.1236949  1.12343204\n",
      " 1.12315953 1.12289894 1.12265968 1.12240708 1.12214899 1.12188995\n",
      " 1.12163198 1.12137902 1.12112868 1.12087429 1.12061894 1.12036395\n",
      " 1.12011027 1.11985791 1.11960566]\n",
      "26\n",
      "[1.12087429 1.12061894 1.12036395 1.12011027 1.11985791 1.11960566]\n",
      "pred:  [[1.1193526]]\n",
      "new data:  [1.12704    1.12665    1.12719    1.12697    1.12676    1.12672\n",
      " 1.12643    1.12575853 1.12570679 1.12549317 1.12525749 1.12501979\n",
      " 1.12471056 1.12439024 1.1241926  1.1239512  1.1236949  1.12343204\n",
      " 1.12315953 1.12289894 1.12265968 1.12240708 1.12214899 1.12188995\n",
      " 1.12163198 1.12137902 1.12112868 1.12087429 1.12061894 1.12036395\n",
      " 1.12011027 1.11985791 1.11960566 1.11935258]\n",
      "27\n",
      "[1.12061894 1.12036395 1.12011027 1.11985791 1.11960566 1.11935258]\n",
      "pred:  [[1.1190993]]\n",
      "new data:  [1.12704    1.12665    1.12719    1.12697    1.12676    1.12672\n",
      " 1.12643    1.12575853 1.12570679 1.12549317 1.12525749 1.12501979\n",
      " 1.12471056 1.12439024 1.1241926  1.1239512  1.1236949  1.12343204\n",
      " 1.12315953 1.12289894 1.12265968 1.12240708 1.12214899 1.12188995\n",
      " 1.12163198 1.12137902 1.12112868 1.12087429 1.12061894 1.12036395\n",
      " 1.12011027 1.11985791 1.11960566 1.11935258 1.11909926]\n",
      "28\n",
      "[1.12036395 1.12011027 1.11985791 1.11960566 1.11935258 1.11909926]\n",
      "pred:  [[1.1188467]]\n",
      "new data:  [1.12704    1.12665    1.12719    1.12697    1.12676    1.12672\n",
      " 1.12643    1.12575853 1.12570679 1.12549317 1.12525749 1.12501979\n",
      " 1.12471056 1.12439024 1.1241926  1.1239512  1.1236949  1.12343204\n",
      " 1.12315953 1.12289894 1.12265968 1.12240708 1.12214899 1.12188995\n",
      " 1.12163198 1.12137902 1.12112868 1.12087429 1.12061894 1.12036395\n",
      " 1.12011027 1.11985791 1.11960566 1.11935258 1.11909926 1.11884665]\n",
      "29\n",
      "[1.12011027 1.11985791 1.11960566 1.11935258 1.11909926 1.11884665]\n",
      "pred:  [[1.1185946]]\n",
      "new data:  [1.12704    1.12665    1.12719    1.12697    1.12676    1.12672\n",
      " 1.12643    1.12575853 1.12570679 1.12549317 1.12525749 1.12501979\n",
      " 1.12471056 1.12439024 1.1241926  1.1239512  1.1236949  1.12343204\n",
      " 1.12315953 1.12289894 1.12265968 1.12240708 1.12214899 1.12188995\n",
      " 1.12163198 1.12137902 1.12112868 1.12087429 1.12061894 1.12036395\n",
      " 1.12011027 1.11985791 1.11960566 1.11935258 1.11909926 1.11884665\n",
      " 1.11859465]\n"
     ]
    }
   ],
   "source": [
    "for i in range(len(submit)):\n",
    "    print(i)\n",
    "    test_X_data = test_data[-len(test_data)+1+i:]\n",
    "    print(test_X_data)\n",
    "    \n",
    "    # 將其reshape成三維shape\n",
    "    test_X_data = test_X_data[np.newaxis,:,np.newaxis]\n",
    "    \n",
    "    # 用最後window_size筆預測下一筆\n",
    "    test_pred = model.predict(test_X_data)\n",
    "    print('pred: ',test_pred)\n",
    "\n",
    "    # append 新預測至最後一筆\n",
    "    test_data = np.append(test_data, test_pred)\n",
    "    print('new data: ',test_data)"
   ]
  },
  {
   "cell_type": "code",
   "execution_count": 30,
   "metadata": {},
   "outputs": [
    {
     "data": {
      "text/plain": [
       "37"
      ]
     },
     "execution_count": 30,
     "metadata": {},
     "output_type": "execute_result"
    }
   ],
   "source": [
    "len(test_data)"
   ]
  },
  {
   "cell_type": "code",
   "execution_count": 31,
   "metadata": {},
   "outputs": [],
   "source": [
    "submit['Close'] = test_data[window_size+1:]"
   ]
  },
  {
   "cell_type": "code",
   "execution_count": 32,
   "metadata": {},
   "outputs": [
    {
     "data": {
      "text/html": [
       "<div>\n",
       "<style scoped>\n",
       "    .dataframe tbody tr th:only-of-type {\n",
       "        vertical-align: middle;\n",
       "    }\n",
       "\n",
       "    .dataframe tbody tr th {\n",
       "        vertical-align: top;\n",
       "    }\n",
       "\n",
       "    .dataframe thead th {\n",
       "        text-align: right;\n",
       "    }\n",
       "</style>\n",
       "<table border=\"1\" class=\"dataframe\">\n",
       "  <thead>\n",
       "    <tr style=\"text-align: right;\">\n",
       "      <th></th>\n",
       "      <th>Time</th>\n",
       "      <th>Close</th>\n",
       "    </tr>\n",
       "  </thead>\n",
       "  <tbody>\n",
       "    <tr>\n",
       "      <th>0</th>\n",
       "      <td>895 19:00:00</td>\n",
       "      <td>1.125759</td>\n",
       "    </tr>\n",
       "    <tr>\n",
       "      <th>1</th>\n",
       "      <td>895 19:10:00</td>\n",
       "      <td>1.125707</td>\n",
       "    </tr>\n",
       "    <tr>\n",
       "      <th>2</th>\n",
       "      <td>895 19:20:00</td>\n",
       "      <td>1.125493</td>\n",
       "    </tr>\n",
       "    <tr>\n",
       "      <th>3</th>\n",
       "      <td>895 19:30:00</td>\n",
       "      <td>1.125257</td>\n",
       "    </tr>\n",
       "    <tr>\n",
       "      <th>4</th>\n",
       "      <td>895 19:40:00</td>\n",
       "      <td>1.125020</td>\n",
       "    </tr>\n",
       "    <tr>\n",
       "      <th>5</th>\n",
       "      <td>895 19:50:00</td>\n",
       "      <td>1.124711</td>\n",
       "    </tr>\n",
       "    <tr>\n",
       "      <th>6</th>\n",
       "      <td>895 20:00:00</td>\n",
       "      <td>1.124390</td>\n",
       "    </tr>\n",
       "    <tr>\n",
       "      <th>7</th>\n",
       "      <td>895 20:10:00</td>\n",
       "      <td>1.124193</td>\n",
       "    </tr>\n",
       "    <tr>\n",
       "      <th>8</th>\n",
       "      <td>895 20:20:00</td>\n",
       "      <td>1.123951</td>\n",
       "    </tr>\n",
       "    <tr>\n",
       "      <th>9</th>\n",
       "      <td>895 20:30:00</td>\n",
       "      <td>1.123695</td>\n",
       "    </tr>\n",
       "    <tr>\n",
       "      <th>10</th>\n",
       "      <td>895 20:40:00</td>\n",
       "      <td>1.123432</td>\n",
       "    </tr>\n",
       "    <tr>\n",
       "      <th>11</th>\n",
       "      <td>895 20:50:00</td>\n",
       "      <td>1.123160</td>\n",
       "    </tr>\n",
       "    <tr>\n",
       "      <th>12</th>\n",
       "      <td>895 21:00:00</td>\n",
       "      <td>1.122899</td>\n",
       "    </tr>\n",
       "    <tr>\n",
       "      <th>13</th>\n",
       "      <td>895 21:10:00</td>\n",
       "      <td>1.122660</td>\n",
       "    </tr>\n",
       "    <tr>\n",
       "      <th>14</th>\n",
       "      <td>895 21:20:00</td>\n",
       "      <td>1.122407</td>\n",
       "    </tr>\n",
       "    <tr>\n",
       "      <th>15</th>\n",
       "      <td>895 21:30:00</td>\n",
       "      <td>1.122149</td>\n",
       "    </tr>\n",
       "    <tr>\n",
       "      <th>16</th>\n",
       "      <td>895 21:40:00</td>\n",
       "      <td>1.121890</td>\n",
       "    </tr>\n",
       "    <tr>\n",
       "      <th>17</th>\n",
       "      <td>895 21:50:00</td>\n",
       "      <td>1.121632</td>\n",
       "    </tr>\n",
       "    <tr>\n",
       "      <th>18</th>\n",
       "      <td>895 22:00:00</td>\n",
       "      <td>1.121379</td>\n",
       "    </tr>\n",
       "    <tr>\n",
       "      <th>19</th>\n",
       "      <td>895 22:10:00</td>\n",
       "      <td>1.121129</td>\n",
       "    </tr>\n",
       "    <tr>\n",
       "      <th>20</th>\n",
       "      <td>895 22:20:00</td>\n",
       "      <td>1.120874</td>\n",
       "    </tr>\n",
       "    <tr>\n",
       "      <th>21</th>\n",
       "      <td>895 22:30:00</td>\n",
       "      <td>1.120619</td>\n",
       "    </tr>\n",
       "    <tr>\n",
       "      <th>22</th>\n",
       "      <td>895 22:40:00</td>\n",
       "      <td>1.120364</td>\n",
       "    </tr>\n",
       "    <tr>\n",
       "      <th>23</th>\n",
       "      <td>895 22:50:00</td>\n",
       "      <td>1.120110</td>\n",
       "    </tr>\n",
       "    <tr>\n",
       "      <th>24</th>\n",
       "      <td>895 23:00:00</td>\n",
       "      <td>1.119858</td>\n",
       "    </tr>\n",
       "    <tr>\n",
       "      <th>25</th>\n",
       "      <td>895 23:10:00</td>\n",
       "      <td>1.119606</td>\n",
       "    </tr>\n",
       "    <tr>\n",
       "      <th>26</th>\n",
       "      <td>895 23:20:00</td>\n",
       "      <td>1.119353</td>\n",
       "    </tr>\n",
       "    <tr>\n",
       "      <th>27</th>\n",
       "      <td>895 23:30:00</td>\n",
       "      <td>1.119099</td>\n",
       "    </tr>\n",
       "    <tr>\n",
       "      <th>28</th>\n",
       "      <td>895 23:40:00</td>\n",
       "      <td>1.118847</td>\n",
       "    </tr>\n",
       "    <tr>\n",
       "      <th>29</th>\n",
       "      <td>895 23:50:00</td>\n",
       "      <td>1.118595</td>\n",
       "    </tr>\n",
       "  </tbody>\n",
       "</table>\n",
       "</div>"
      ],
      "text/plain": [
       "            Time     Close\n",
       "0   895 19:00:00  1.125759\n",
       "1   895 19:10:00  1.125707\n",
       "2   895 19:20:00  1.125493\n",
       "3   895 19:30:00  1.125257\n",
       "4   895 19:40:00  1.125020\n",
       "5   895 19:50:00  1.124711\n",
       "6   895 20:00:00  1.124390\n",
       "7   895 20:10:00  1.124193\n",
       "8   895 20:20:00  1.123951\n",
       "9   895 20:30:00  1.123695\n",
       "10  895 20:40:00  1.123432\n",
       "11  895 20:50:00  1.123160\n",
       "12  895 21:00:00  1.122899\n",
       "13  895 21:10:00  1.122660\n",
       "14  895 21:20:00  1.122407\n",
       "15  895 21:30:00  1.122149\n",
       "16  895 21:40:00  1.121890\n",
       "17  895 21:50:00  1.121632\n",
       "18  895 22:00:00  1.121379\n",
       "19  895 22:10:00  1.121129\n",
       "20  895 22:20:00  1.120874\n",
       "21  895 22:30:00  1.120619\n",
       "22  895 22:40:00  1.120364\n",
       "23  895 22:50:00  1.120110\n",
       "24  895 23:00:00  1.119858\n",
       "25  895 23:10:00  1.119606\n",
       "26  895 23:20:00  1.119353\n",
       "27  895 23:30:00  1.119099\n",
       "28  895 23:40:00  1.118847\n",
       "29  895 23:50:00  1.118595"
      ]
     },
     "execution_count": 32,
     "metadata": {},
     "output_type": "execute_result"
    }
   ],
   "source": [
    "submit"
   ]
  },
  {
   "cell_type": "code",
   "execution_count": 33,
   "metadata": {},
   "outputs": [],
   "source": [
    "submit.to_csv('submission_Simple_W.csv',index=0)"
   ]
  }
 ],
 "metadata": {
  "kernelspec": {
   "display_name": "Python 3",
   "language": "python",
   "name": "python3"
  },
  "language_info": {
   "codemirror_mode": {
    "name": "ipython",
    "version": 3
   },
   "file_extension": ".py",
   "mimetype": "text/x-python",
   "name": "python",
   "nbconvert_exporter": "python",
   "pygments_lexer": "ipython3",
   "version": "3.7.3"
  }
 },
 "nbformat": 4,
 "nbformat_minor": 4
}
