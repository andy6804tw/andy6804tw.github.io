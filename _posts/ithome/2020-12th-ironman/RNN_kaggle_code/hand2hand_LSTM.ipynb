{
 "cells": [
  {
   "cell_type": "markdown",
   "metadata": {},
   "source": [
    "### Kaggle RNN 手把手\n",
    "1. 讀取資料\n",
    "2. 資料預處理\n",
    "3. 建立模型\n",
    "4. 訓練模型\n",
    "5. 評估模型準確率\n",
    "6. 輸出成果"
   ]
  },
  {
   "cell_type": "markdown",
   "metadata": {},
   "source": [
    "### 匯入套件"
   ]
  },
  {
   "cell_type": "code",
   "execution_count": 1,
   "metadata": {},
   "outputs": [],
   "source": [
    "import numpy as np\n",
    "import pandas as pd\n",
    "import matplotlib.pyplot as plt\n",
    "import tensorflow as tf\n",
    "from tensorflow.keras import layers\n",
    "%matplotlib inline"
   ]
  },
  {
   "cell_type": "markdown",
   "metadata": {},
   "source": [
    "### 讀取資料"
   ]
  },
  {
   "cell_type": "code",
   "execution_count": 2,
   "metadata": {},
   "outputs": [],
   "source": [
    "train = pd.read_csv('training_set.csv')\n",
    "submit = pd.read_csv('sampleSubmission.csv')"
   ]
  },
  {
   "cell_type": "code",
   "execution_count": 3,
   "metadata": {},
   "outputs": [
    {
     "name": "stdout",
     "output_type": "stream",
     "text": [
      "(74278, 7)\n",
      "(30, 2)\n"
     ]
    }
   ],
   "source": [
    "print(train.shape)\n",
    "print(submit.shape)"
   ]
  },
  {
   "cell_type": "code",
   "execution_count": 4,
   "metadata": {},
   "outputs": [
    {
     "data": {
      "text/html": [
       "<div>\n",
       "<style scoped>\n",
       "    .dataframe tbody tr th:only-of-type {\n",
       "        vertical-align: middle;\n",
       "    }\n",
       "\n",
       "    .dataframe tbody tr th {\n",
       "        vertical-align: top;\n",
       "    }\n",
       "\n",
       "    .dataframe thead th {\n",
       "        text-align: right;\n",
       "    }\n",
       "</style>\n",
       "<table border=\"1\" class=\"dataframe\">\n",
       "  <thead>\n",
       "    <tr style=\"text-align: right;\">\n",
       "      <th></th>\n",
       "      <th>Time</th>\n",
       "      <th>Weekday</th>\n",
       "      <th>Open</th>\n",
       "      <th>High</th>\n",
       "      <th>Low</th>\n",
       "      <th>Close</th>\n",
       "      <th>Volume</th>\n",
       "    </tr>\n",
       "  </thead>\n",
       "  <tbody>\n",
       "    <tr>\n",
       "      <th>0</th>\n",
       "      <td>170 05:00:00</td>\n",
       "      <td>0</td>\n",
       "      <td>1.12053</td>\n",
       "      <td>1.12079</td>\n",
       "      <td>1.12050</td>\n",
       "      <td>1.12067</td>\n",
       "      <td>302.690002</td>\n",
       "    </tr>\n",
       "    <tr>\n",
       "      <th>1</th>\n",
       "      <td>170 05:10:00</td>\n",
       "      <td>0</td>\n",
       "      <td>1.12066</td>\n",
       "      <td>1.12074</td>\n",
       "      <td>1.12051</td>\n",
       "      <td>1.12070</td>\n",
       "      <td>486.690001</td>\n",
       "    </tr>\n",
       "    <tr>\n",
       "      <th>2</th>\n",
       "      <td>170 05:20:00</td>\n",
       "      <td>0</td>\n",
       "      <td>1.12070</td>\n",
       "      <td>1.12071</td>\n",
       "      <td>1.12065</td>\n",
       "      <td>1.12070</td>\n",
       "      <td>212.120000</td>\n",
       "    </tr>\n",
       "    <tr>\n",
       "      <th>3</th>\n",
       "      <td>170 05:30:00</td>\n",
       "      <td>0</td>\n",
       "      <td>1.12070</td>\n",
       "      <td>1.12072</td>\n",
       "      <td>1.12050</td>\n",
       "      <td>1.12061</td>\n",
       "      <td>811.989999</td>\n",
       "    </tr>\n",
       "    <tr>\n",
       "      <th>4</th>\n",
       "      <td>170 05:40:00</td>\n",
       "      <td>0</td>\n",
       "      <td>1.12060</td>\n",
       "      <td>1.12079</td>\n",
       "      <td>1.12027</td>\n",
       "      <td>1.12029</td>\n",
       "      <td>502.870001</td>\n",
       "    </tr>\n",
       "  </tbody>\n",
       "</table>\n",
       "</div>"
      ],
      "text/plain": [
       "           Time  Weekday     Open     High      Low    Close      Volume\n",
       "0  170 05:00:00        0  1.12053  1.12079  1.12050  1.12067  302.690002\n",
       "1  170 05:10:00        0  1.12066  1.12074  1.12051  1.12070  486.690001\n",
       "2  170 05:20:00        0  1.12070  1.12071  1.12065  1.12070  212.120000\n",
       "3  170 05:30:00        0  1.12070  1.12072  1.12050  1.12061  811.989999\n",
       "4  170 05:40:00        0  1.12060  1.12079  1.12027  1.12029  502.870001"
      ]
     },
     "execution_count": 4,
     "metadata": {},
     "output_type": "execute_result"
    }
   ],
   "source": [
    "train.head()"
   ]
  },
  {
   "cell_type": "code",
   "execution_count": 5,
   "metadata": {},
   "outputs": [
    {
     "data": {
      "text/plain": [
       "(74278, 7)"
      ]
     },
     "execution_count": 5,
     "metadata": {},
     "output_type": "execute_result"
    }
   ],
   "source": [
    "train.shape"
   ]
  },
  {
   "cell_type": "code",
   "execution_count": 6,
   "metadata": {},
   "outputs": [
    {
     "data": {
      "text/plain": [
       "Index(['Time', 'Weekday', 'Open', 'High', 'Low', 'Close', 'Volume'], dtype='object')"
      ]
     },
     "execution_count": 6,
     "metadata": {},
     "output_type": "execute_result"
    }
   ],
   "source": [
    "train.columns"
   ]
  },
  {
   "cell_type": "markdown",
   "metadata": {},
   "source": [
    "### 資料預處理"
   ]
  },
  {
   "cell_type": "code",
   "execution_count": 7,
   "metadata": {},
   "outputs": [
    {
     "data": {
      "text/plain": [
       "Time       0\n",
       "Weekday    0\n",
       "Open       0\n",
       "High       0\n",
       "Low        0\n",
       "Close      0\n",
       "Volume     0\n",
       "dtype: int64"
      ]
     },
     "execution_count": 7,
     "metadata": {},
     "output_type": "execute_result"
    }
   ],
   "source": [
    "train.isna().sum()"
   ]
  },
  {
   "cell_type": "code",
   "execution_count": 8,
   "metadata": {},
   "outputs": [],
   "source": [
    "close = train['Close']\n",
    "target_list = np.expand_dims(close.values,axis=1) # 展開維度成兩維 (總數,feature數)\n",
    "# 也可以直接reshape(-1,1) X = X.values.reshape(-1,1)"
   ]
  },
  {
   "cell_type": "code",
   "execution_count": 9,
   "metadata": {},
   "outputs": [
    {
     "data": {
      "text/plain": [
       "(74278, 1)"
      ]
     },
     "execution_count": 9,
     "metadata": {},
     "output_type": "execute_result"
    }
   ],
   "source": [
    "target_list.shape"
   ]
  },
  {
   "cell_type": "code",
   "execution_count": 10,
   "metadata": {},
   "outputs": [],
   "source": [
    "time = train['Time'].values"
   ]
  },
  {
   "cell_type": "code",
   "execution_count": 11,
   "metadata": {},
   "outputs": [
    {
     "data": {
      "image/png": "[encoded data removed]",
      "text/plain": [
       "<Figure size 1080x504 with 1 Axes>"
      ]
     },
     "metadata": {
      "needs_background": "light"
     },
     "output_type": "display_data"
    }
   ],
   "source": [
    "plt.figure(figsize = (15,7))\n",
    "plt.plot(\n",
    "    np.arange(len(close)),\n",
    "    close,\n",
    "    label = 'Close',\n",
    ")\n",
    "plt.xticks(np.arange(len(close))[::5000], train['Time'][::5000], rotation = 'vertical')\n",
    "plt.grid()\n",
    "plt.show()"
   ]
  },
  {
   "cell_type": "code",
   "execution_count": 12,
   "metadata": {},
   "outputs": [],
   "source": [
    "train = train.drop(['Time','Weekday'], axis=1).values"
   ]
  },
  {
   "cell_type": "code",
   "execution_count": 13,
   "metadata": {},
   "outputs": [],
   "source": [
    "def window_train (data, target, window_size,predict_length=1):\n",
    "    X_train,y_train = [],[]\n",
    "    for i in range(len(data) - (window_size+predict_length) + 1):\n",
    "        X_train.append(data[i:i+window_size])\n",
    "        y_train.append(target[i+window_size:i+window_size+predict_length])\n",
    "    X_train = np.array(X_train)\n",
    "    y_train = np.array(y_train)\n",
    "    return X_train,y_train"
   ]
  },
  {
   "cell_type": "code",
   "execution_count": 14,
   "metadata": {},
   "outputs": [],
   "source": [
    "window_size = 6\n",
    "X,y = window_train(train, target_list, window_size,)"
   ]
  },
  {
   "cell_type": "code",
   "execution_count": 15,
   "metadata": {},
   "outputs": [
    {
     "data": {
      "text/plain": [
       "(74272, 6, 5)"
      ]
     },
     "execution_count": 15,
     "metadata": {},
     "output_type": "execute_result"
    }
   ],
   "source": [
    "X.shape # (總數,window_size,feature數)"
   ]
  },
  {
   "cell_type": "code",
   "execution_count": 16,
   "metadata": {},
   "outputs": [
    {
     "data": {
      "text/plain": [
       "(74272, 1, 1)"
      ]
     },
     "execution_count": 16,
     "metadata": {},
     "output_type": "execute_result"
    }
   ],
   "source": [
    "y.shape"
   ]
  },
  {
   "cell_type": "code",
   "execution_count": 17,
   "metadata": {},
   "outputs": [
    {
     "name": "stdout",
     "output_type": "stream",
     "text": [
      "(74272, 6, 1)\n"
     ]
    }
   ],
   "source": [
    "# 0:Open,1:High,2:Low,3:Close,4:Volume\n",
    "X = X[:,:,3]\n",
    "X = X[:,:,np.newaxis]\n",
    "print(X.shape)"
   ]
  },
  {
   "cell_type": "code",
   "execution_count": 18,
   "metadata": {},
   "outputs": [
    {
     "name": "stdout",
     "output_type": "stream",
     "text": [
      "X_train size: (70000, 6, 1)\n",
      "y_train size: (70000, 1, 1)\n",
      "X_test size: (4272, 6, 1)\n",
      "y_test size: (4272, 1, 1)\n"
     ]
    }
   ],
   "source": [
    "X_train = X[:70000]\n",
    "y_train = y[:70000]\n",
    "\n",
    "X_valid = X[70000:]\n",
    "y_valid = y[70000:]\n",
    "\n",
    "print(\"X_train size: {}\".format(X_train.shape))\n",
    "print(\"y_train size: {}\".format(y_train.shape))\n",
    "print(\"X_test size: {}\".format(X_valid.shape))\n",
    "print(\"y_test size: {}\".format(y_valid.shape))"
   ]
  },
  {
   "cell_type": "code",
   "execution_count": 19,
   "metadata": {},
   "outputs": [],
   "source": [
    "from tensorflow.python.keras.models import Sequential\n",
    "from tensorflow.python.keras.layers import Dense, Dropout, LSTM\n",
    "from tensorflow.python.keras.layers import TimeDistributed, Flatten\n",
    "from tensorflow.keras.optimizers import Adam"
   ]
  },
  {
   "cell_type": "code",
   "execution_count": 46,
   "metadata": {},
   "outputs": [],
   "source": [
    "model = tf.keras.Sequential()\n",
    "model.add(LSTM(units=36,activation='relu',return_sequences=True))\n",
    "model.add(Dropout(0.2))\n",
    "model.add(LSTM(units=36,activation='relu',return_sequences=True))\n",
    "model.add(Dropout(0.2))\n",
    "model.add(LSTM(units=36))\n",
    "model.add(Dropout(0.2))\n",
    "model.add(Flatten())\n",
    "model.add(Dense(units=1))"
   ]
  },
  {
   "cell_type": "code",
   "execution_count": 47,
   "metadata": {},
   "outputs": [],
   "source": [
    "opt = Adam(lr=0.001, decay=1e-6, clipvalue=5) # https://wulc.me/2018/05/01/%E6%A2%AF%E5%BA%A6%E8%A3%81%E5%89%AA%E5%8F%8A%E5%85%B6%E4%BD%9C%E7%94%A8/\n",
    "\n",
    "model.compile(loss='mae', optimizer=opt, metrics=['mae'])"
   ]
  },
  {
   "cell_type": "code",
   "execution_count": 48,
   "metadata": {},
   "outputs": [
    {
     "name": "stdout",
     "output_type": "stream",
     "text": [
      "Train on 70000 samples, validate on 4272 samples\n",
      "Epoch 1/7\n",
      "70000/70000 [==============================] - 78s 1ms/sample - loss: 0.0817 - mae: 0.0817 - val_loss: 0.0152 - val_mae: 0.0152\n",
      "Epoch 2/7\n",
      "70000/70000 [==============================] - 70s 998us/sample - loss: 0.0334 - mae: 0.0334 - val_loss: 0.0037 - val_mae: 0.0037\n",
      "Epoch 3/7\n",
      "70000/70000 [==============================] - 70s 997us/sample - loss: 0.0089 - mae: 0.0089 - val_loss: 0.0050 - val_mae: 0.0050\n",
      "Epoch 4/7\n",
      "70000/70000 [==============================] - 70s 996us/sample - loss: 0.0044 - mae: 0.0044 - val_loss: 0.0051 - val_mae: 0.0051\n",
      "Epoch 5/7\n",
      "70000/70000 [==============================] - 70s 996us/sample - loss: 0.0041 - mae: 0.0041 - val_loss: 0.0043 - val_mae: 0.0043\n",
      "Epoch 6/7\n",
      "70000/70000 [==============================] - 70s 997us/sample - loss: 0.0037 - mae: 0.0037 - val_loss: 0.0037 - val_mae: 0.0037\n",
      "Epoch 7/7\n",
      "70000/70000 [==============================] - 70s 996us/sample - loss: 0.0035 - mae: 0.0035 - val_loss: 0.0040 - val_mae: 0.0040\n"
     ]
    },
    {
     "data": {
      "text/plain": [
       "<tensorflow.python.keras.callbacks.History at 0x7f4b5394d860>"
      ]
     },
     "execution_count": 48,
     "metadata": {},
     "output_type": "execute_result"
    }
   ],
   "source": [
    "model.fit(X_train, y_train, epochs=6, validation_data=(X_valid,y_valid))"
   ]
  },
  {
   "cell_type": "code",
   "execution_count": 49,
   "metadata": {},
   "outputs": [
    {
     "name": "stdout",
     "output_type": "stream",
     "text": [
      "Model: \"sequential_2\"\n",
      "_________________________________________________________________\n",
      "Layer (type)                 Output Shape              Param #   \n",
      "=================================================================\n",
      "lstm_6 (LSTM)                multiple                  5472      \n",
      "_________________________________________________________________\n",
      "dropout_6 (Dropout)          multiple                  0         \n",
      "_________________________________________________________________\n",
      "lstm_7 (LSTM)                multiple                  10512     \n",
      "_________________________________________________________________\n",
      "dropout_7 (Dropout)          multiple                  0         \n",
      "_________________________________________________________________\n",
      "lstm_8 (LSTM)                multiple                  10512     \n",
      "_________________________________________________________________\n",
      "dropout_8 (Dropout)          multiple                  0         \n",
      "_________________________________________________________________\n",
      "flatten_2 (Flatten)          multiple                  0         \n",
      "_________________________________________________________________\n",
      "dense_2 (Dense)              multiple                  37        \n",
      "=================================================================\n",
      "Total params: 26,533\n",
      "Trainable params: 26,533\n",
      "Non-trainable params: 0\n",
      "_________________________________________________________________\n"
     ]
    }
   ],
   "source": [
    "model.summary()"
   ]
  },
  {
   "cell_type": "code",
   "execution_count": 50,
   "metadata": {},
   "outputs": [],
   "source": [
    "valid_pred = model.predict(X_valid)"
   ]
  },
  {
   "cell_type": "code",
   "execution_count": 51,
   "metadata": {},
   "outputs": [
    {
     "data": {
      "image/png": "[encoded data removed]",
      "text/plain": [
       "<Figure size 1080x504 with 1 Axes>"
      ]
     },
     "metadata": {
      "needs_background": "light"
     },
     "output_type": "display_data"
    }
   ],
   "source": [
    "plt.figure(figsize=(15,7))\n",
    "plt.plot(np.squeeze(valid_pred),label='pred')\n",
    "plt.plot(np.squeeze(y_valid),label='Original')\n",
    "plt.legend()\n",
    "plt.show()"
   ]
  },
  {
   "cell_type": "code",
   "execution_count": 52,
   "metadata": {},
   "outputs": [
    {
     "name": "stdout",
     "output_type": "stream",
     "text": [
      "(6,)\n",
      "[1.12704 1.12665 1.12719 1.12697 1.12676 1.12672]\n"
     ]
    }
   ],
   "source": [
    "# 將資料最後一筆與預測值串接\n",
    "test_data = np.array([i[0] for i in X[-1]])\n",
    "print(test_data.shape)\n",
    "print(test_data)"
   ]
  },
  {
   "cell_type": "code",
   "execution_count": 53,
   "metadata": {},
   "outputs": [
    {
     "name": "stdout",
     "output_type": "stream",
     "text": [
      "(7,)\n",
      "[1.12704 1.12665 1.12719 1.12697 1.12676 1.12672 1.12643]\n"
     ]
    }
   ],
   "source": [
    "test_data = np.append(test_data,y[-1])\n",
    "print(test_data.shape)\n",
    "print(test_data)"
   ]
  },
  {
   "cell_type": "code",
   "execution_count": 54,
   "metadata": {},
   "outputs": [
    {
     "data": {
      "text/plain": [
       "array([1.12665, 1.12719, 1.12697, 1.12676, 1.12672, 1.12643])"
      ]
     },
     "execution_count": 54,
     "metadata": {},
     "output_type": "execute_result"
    }
   ],
   "source": [
    "test_data[-len(test_data)+1+0:]"
   ]
  },
  {
   "cell_type": "code",
   "execution_count": 55,
   "metadata": {},
   "outputs": [
    {
     "name": "stdout",
     "output_type": "stream",
     "text": [
      "(1, 6)\n",
      "(1, 6, 1)\n"
     ]
    }
   ],
   "source": [
    "hey = test_data[0:len(test_data)-1]\n",
    "hey0 = hey[np.newaxis,:]\n",
    "hey1 = hey[np.newaxis,:,np.newaxis]\n",
    "print(hey0.shape)\n",
    "print(hey1.shape)"
   ]
  },
  {
   "cell_type": "code",
   "execution_count": 56,
   "metadata": {},
   "outputs": [
    {
     "name": "stdout",
     "output_type": "stream",
     "text": [
      "[1.12665 1.12719 1.12697 1.12676 1.12672 1.12643]\n",
      "0\n",
      "pred:  [[1.1226648]]\n",
      "new data:  [1.12704    1.12665    1.12719    1.12697    1.12676    1.12672\n",
      " 1.12643    1.12266481]\n",
      "[1.12719    1.12697    1.12676    1.12672    1.12643    1.12266481]\n",
      "1\n",
      "pred:  [[1.1226687]]\n",
      "new data:  [1.12704    1.12665    1.12719    1.12697    1.12676    1.12672\n",
      " 1.12643    1.12266481 1.12266874]\n",
      "[1.12697    1.12676    1.12672    1.12643    1.12266481 1.12266874]\n",
      "2\n",
      "pred:  [[1.1225439]]\n",
      "new data:  [1.12704    1.12665    1.12719    1.12697    1.12676    1.12672\n",
      " 1.12643    1.12266481 1.12266874 1.12254393]\n",
      "[1.12676    1.12672    1.12643    1.12266481 1.12266874 1.12254393]\n",
      "3\n",
      "pred:  [[1.1224133]]\n",
      "new data:  [1.12704    1.12665    1.12719    1.12697    1.12676    1.12672\n",
      " 1.12643    1.12266481 1.12266874 1.12254393 1.12241328]\n",
      "[1.12672    1.12643    1.12266481 1.12266874 1.12254393 1.12241328]\n",
      "4\n",
      "pred:  [[1.122246]]\n",
      "new data:  [1.12704    1.12665    1.12719    1.12697    1.12676    1.12672\n",
      " 1.12643    1.12266481 1.12266874 1.12254393 1.12241328 1.12224603]\n",
      "[1.12643    1.12266481 1.12266874 1.12254393 1.12241328 1.12224603]\n",
      "5\n",
      "pred:  [[1.1220213]]\n",
      "new data:  [1.12704    1.12665    1.12719    1.12697    1.12676    1.12672\n",
      " 1.12643    1.12266481 1.12266874 1.12254393 1.12241328 1.12224603\n",
      " 1.12202132]\n",
      "[1.12266481 1.12266874 1.12254393 1.12241328 1.12224603 1.12202132]\n",
      "6\n",
      "pred:  [[1.1217948]]\n",
      "new data:  [1.12704    1.12665    1.12719    1.12697    1.12676    1.12672\n",
      " 1.12643    1.12266481 1.12266874 1.12254393 1.12241328 1.12224603\n",
      " 1.12202132 1.12179482]\n",
      "[1.12266874 1.12254393 1.12241328 1.12224603 1.12202132 1.12179482]\n",
      "7\n",
      "pred:  [[1.1217926]]\n",
      "new data:  [1.12704    1.12665    1.12719    1.12697    1.12676    1.12672\n",
      " 1.12643    1.12266481 1.12266874 1.12254393 1.12241328 1.12224603\n",
      " 1.12202132 1.12179482 1.12179255]\n",
      "[1.12254393 1.12241328 1.12224603 1.12202132 1.12179482 1.12179255]\n",
      "8\n",
      "pred:  [[1.1217852]]\n",
      "new data:  [1.12704    1.12665    1.12719    1.12697    1.12676    1.12672\n",
      " 1.12643    1.12266481 1.12266874 1.12254393 1.12241328 1.12224603\n",
      " 1.12202132 1.12179482 1.12179255 1.12178516]\n",
      "[1.12241328 1.12224603 1.12202132 1.12179482 1.12179255 1.12178516]\n",
      "9\n",
      "pred:  [[1.1217774]]\n",
      "new data:  [1.12704    1.12665    1.12719    1.12697    1.12676    1.12672\n",
      " 1.12643    1.12266481 1.12266874 1.12254393 1.12241328 1.12224603\n",
      " 1.12202132 1.12179482 1.12179255 1.12178516 1.12177742]\n",
      "[1.12224603 1.12202132 1.12179482 1.12179255 1.12178516 1.12177742]\n",
      "10\n",
      "pred:  [[1.1217688]]\n",
      "new data:  [1.12704    1.12665    1.12719    1.12697    1.12676    1.12672\n",
      " 1.12643    1.12266481 1.12266874 1.12254393 1.12241328 1.12224603\n",
      " 1.12202132 1.12179482 1.12179255 1.12178516 1.12177742 1.12176883]\n",
      "[1.12202132 1.12179482 1.12179255 1.12178516 1.12177742 1.12176883]\n",
      "11\n",
      "pred:  [[1.1217614]]\n",
      "new data:  [1.12704    1.12665    1.12719    1.12697    1.12676    1.12672\n",
      " 1.12643    1.12266481 1.12266874 1.12254393 1.12241328 1.12224603\n",
      " 1.12202132 1.12179482 1.12179255 1.12178516 1.12177742 1.12176883\n",
      " 1.12176144]\n",
      "[1.12179482 1.12179255 1.12178516 1.12177742 1.12176883 1.12176144]\n",
      "12\n",
      "pred:  [[1.1217569]]\n",
      "new data:  [1.12704    1.12665    1.12719    1.12697    1.12676    1.12672\n",
      " 1.12643    1.12266481 1.12266874 1.12254393 1.12241328 1.12224603\n",
      " 1.12202132 1.12179482 1.12179255 1.12178516 1.12177742 1.12176883\n",
      " 1.12176144 1.12175691]\n",
      "[1.12179255 1.12178516 1.12177742 1.12176883 1.12176144 1.12175691]\n",
      "13\n",
      "pred:  [[1.1217568]]\n",
      "new data:  [1.12704    1.12665    1.12719    1.12697    1.12676    1.12672\n",
      " 1.12643    1.12266481 1.12266874 1.12254393 1.12241328 1.12224603\n",
      " 1.12202132 1.12179482 1.12179255 1.12178516 1.12177742 1.12176883\n",
      " 1.12176144 1.12175691 1.12175679]\n",
      "[1.12178516 1.12177742 1.12176883 1.12176144 1.12175691 1.12175679]\n",
      "14\n",
      "pred:  [[1.1217566]]\n",
      "new data:  [1.12704    1.12665    1.12719    1.12697    1.12676    1.12672\n",
      " 1.12643    1.12266481 1.12266874 1.12254393 1.12241328 1.12224603\n",
      " 1.12202132 1.12179482 1.12179255 1.12178516 1.12177742 1.12176883\n",
      " 1.12176144 1.12175691 1.12175679 1.12175655]\n",
      "[1.12177742 1.12176883 1.12176144 1.12175691 1.12175679 1.12175655]\n",
      "15\n",
      "pred:  [[1.1217563]]\n",
      "new data:  [1.12704    1.12665    1.12719    1.12697    1.12676    1.12672\n",
      " 1.12643    1.12266481 1.12266874 1.12254393 1.12241328 1.12224603\n",
      " 1.12202132 1.12179482 1.12179255 1.12178516 1.12177742 1.12176883\n",
      " 1.12176144 1.12175691 1.12175679 1.12175655 1.12175632]\n",
      "[1.12176883 1.12176144 1.12175691 1.12175679 1.12175655 1.12175632]\n",
      "16\n",
      "pred:  [[1.1217561]]\n",
      "new data:  [1.12704    1.12665    1.12719    1.12697    1.12676    1.12672\n",
      " 1.12643    1.12266481 1.12266874 1.12254393 1.12241328 1.12224603\n",
      " 1.12202132 1.12179482 1.12179255 1.12178516 1.12177742 1.12176883\n",
      " 1.12176144 1.12175691 1.12175679 1.12175655 1.12175632 1.12175608]\n",
      "[1.12176144 1.12175691 1.12175679 1.12175655 1.12175632 1.12175608]\n",
      "17\n",
      "pred:  [[1.1217558]]\n",
      "new data:  [1.12704    1.12665    1.12719    1.12697    1.12676    1.12672\n",
      " 1.12643    1.12266481 1.12266874 1.12254393 1.12241328 1.12224603\n",
      " 1.12202132 1.12179482 1.12179255 1.12178516 1.12177742 1.12176883\n",
      " 1.12176144 1.12175691 1.12175679 1.12175655 1.12175632 1.12175608\n",
      " 1.12175584]\n",
      "[1.12175691 1.12175679 1.12175655 1.12175632 1.12175608 1.12175584]\n",
      "18\n",
      "pred:  [[1.1217558]]\n",
      "new data:  [1.12704    1.12665    1.12719    1.12697    1.12676    1.12672\n",
      " 1.12643    1.12266481 1.12266874 1.12254393 1.12241328 1.12224603\n",
      " 1.12202132 1.12179482 1.12179255 1.12178516 1.12177742 1.12176883\n",
      " 1.12176144 1.12175691 1.12175679 1.12175655 1.12175632 1.12175608\n",
      " 1.12175584 1.12175584]\n",
      "[1.12175679 1.12175655 1.12175632 1.12175608 1.12175584 1.12175584]\n",
      "19\n",
      "pred:  [[1.1217558]]\n",
      "new data:  [1.12704    1.12665    1.12719    1.12697    1.12676    1.12672\n",
      " 1.12643    1.12266481 1.12266874 1.12254393 1.12241328 1.12224603\n",
      " 1.12202132 1.12179482 1.12179255 1.12178516 1.12177742 1.12176883\n",
      " 1.12176144 1.12175691 1.12175679 1.12175655 1.12175632 1.12175608\n",
      " 1.12175584 1.12175584 1.12175584]\n",
      "[1.12175655 1.12175632 1.12175608 1.12175584 1.12175584 1.12175584]\n",
      "20\n",
      "pred:  [[1.1217557]]\n",
      "new data:  [1.12704    1.12665    1.12719    1.12697    1.12676    1.12672\n",
      " 1.12643    1.12266481 1.12266874 1.12254393 1.12241328 1.12224603\n",
      " 1.12202132 1.12179482 1.12179255 1.12178516 1.12177742 1.12176883\n",
      " 1.12176144 1.12175691 1.12175679 1.12175655 1.12175632 1.12175608\n",
      " 1.12175584 1.12175584 1.12175584 1.12175572]\n",
      "[1.12175632 1.12175608 1.12175584 1.12175584 1.12175584 1.12175572]\n",
      "21\n",
      "pred:  [[1.1217557]]\n",
      "new data:  [1.12704    1.12665    1.12719    1.12697    1.12676    1.12672\n",
      " 1.12643    1.12266481 1.12266874 1.12254393 1.12241328 1.12224603\n",
      " 1.12202132 1.12179482 1.12179255 1.12178516 1.12177742 1.12176883\n",
      " 1.12176144 1.12175691 1.12175679 1.12175655 1.12175632 1.12175608\n",
      " 1.12175584 1.12175584 1.12175584 1.12175572 1.12175572]\n",
      "[1.12175608 1.12175584 1.12175584 1.12175584 1.12175572 1.12175572]\n",
      "22\n",
      "pred:  [[1.1217557]]\n",
      "new data:  [1.12704    1.12665    1.12719    1.12697    1.12676    1.12672\n",
      " 1.12643    1.12266481 1.12266874 1.12254393 1.12241328 1.12224603\n",
      " 1.12202132 1.12179482 1.12179255 1.12178516 1.12177742 1.12176883\n",
      " 1.12176144 1.12175691 1.12175679 1.12175655 1.12175632 1.12175608\n",
      " 1.12175584 1.12175584 1.12175584 1.12175572 1.12175572 1.12175572]\n",
      "[1.12175584 1.12175584 1.12175584 1.12175572 1.12175572 1.12175572]\n",
      "23\n",
      "pred:  [[1.1217557]]\n",
      "new data:  [1.12704    1.12665    1.12719    1.12697    1.12676    1.12672\n",
      " 1.12643    1.12266481 1.12266874 1.12254393 1.12241328 1.12224603\n",
      " 1.12202132 1.12179482 1.12179255 1.12178516 1.12177742 1.12176883\n",
      " 1.12176144 1.12175691 1.12175679 1.12175655 1.12175632 1.12175608\n",
      " 1.12175584 1.12175584 1.12175584 1.12175572 1.12175572 1.12175572\n",
      " 1.12175572]\n",
      "[1.12175584 1.12175584 1.12175572 1.12175572 1.12175572 1.12175572]\n",
      "24\n",
      "pred:  [[1.1217557]]\n",
      "new data:  [1.12704    1.12665    1.12719    1.12697    1.12676    1.12672\n",
      " 1.12643    1.12266481 1.12266874 1.12254393 1.12241328 1.12224603\n",
      " 1.12202132 1.12179482 1.12179255 1.12178516 1.12177742 1.12176883\n",
      " 1.12176144 1.12175691 1.12175679 1.12175655 1.12175632 1.12175608\n",
      " 1.12175584 1.12175584 1.12175584 1.12175572 1.12175572 1.12175572\n",
      " 1.12175572 1.12175572]\n",
      "[1.12175584 1.12175572 1.12175572 1.12175572 1.12175572 1.12175572]\n",
      "25\n",
      "pred:  [[1.1217557]]\n",
      "new data:  [1.12704    1.12665    1.12719    1.12697    1.12676    1.12672\n",
      " 1.12643    1.12266481 1.12266874 1.12254393 1.12241328 1.12224603\n",
      " 1.12202132 1.12179482 1.12179255 1.12178516 1.12177742 1.12176883\n",
      " 1.12176144 1.12175691 1.12175679 1.12175655 1.12175632 1.12175608\n",
      " 1.12175584 1.12175584 1.12175584 1.12175572 1.12175572 1.12175572\n",
      " 1.12175572 1.12175572 1.12175572]\n",
      "[1.12175572 1.12175572 1.12175572 1.12175572 1.12175572 1.12175572]\n",
      "26\n",
      "pred:  [[1.1217557]]\n",
      "new data:  [1.12704    1.12665    1.12719    1.12697    1.12676    1.12672\n",
      " 1.12643    1.12266481 1.12266874 1.12254393 1.12241328 1.12224603\n",
      " 1.12202132 1.12179482 1.12179255 1.12178516 1.12177742 1.12176883\n",
      " 1.12176144 1.12175691 1.12175679 1.12175655 1.12175632 1.12175608\n",
      " 1.12175584 1.12175584 1.12175584 1.12175572 1.12175572 1.12175572\n",
      " 1.12175572 1.12175572 1.12175572 1.12175572]\n",
      "[1.12175572 1.12175572 1.12175572 1.12175572 1.12175572 1.12175572]\n",
      "27\n",
      "pred:  [[1.1217557]]\n",
      "new data:  [1.12704    1.12665    1.12719    1.12697    1.12676    1.12672\n",
      " 1.12643    1.12266481 1.12266874 1.12254393 1.12241328 1.12224603\n",
      " 1.12202132 1.12179482 1.12179255 1.12178516 1.12177742 1.12176883\n",
      " 1.12176144 1.12175691 1.12175679 1.12175655 1.12175632 1.12175608\n",
      " 1.12175584 1.12175584 1.12175584 1.12175572 1.12175572 1.12175572\n",
      " 1.12175572 1.12175572 1.12175572 1.12175572 1.12175572]\n",
      "[1.12175572 1.12175572 1.12175572 1.12175572 1.12175572 1.12175572]\n",
      "28\n",
      "pred:  [[1.1217557]]\n",
      "new data:  [1.12704    1.12665    1.12719    1.12697    1.12676    1.12672\n",
      " 1.12643    1.12266481 1.12266874 1.12254393 1.12241328 1.12224603\n",
      " 1.12202132 1.12179482 1.12179255 1.12178516 1.12177742 1.12176883\n",
      " 1.12176144 1.12175691 1.12175679 1.12175655 1.12175632 1.12175608\n",
      " 1.12175584 1.12175584 1.12175584 1.12175572 1.12175572 1.12175572\n",
      " 1.12175572 1.12175572 1.12175572 1.12175572 1.12175572 1.12175572]\n",
      "[1.12175572 1.12175572 1.12175572 1.12175572 1.12175572 1.12175572]\n",
      "29\n",
      "pred:  [[1.1217557]]\n",
      "new data:  [1.12704    1.12665    1.12719    1.12697    1.12676    1.12672\n",
      " 1.12643    1.12266481 1.12266874 1.12254393 1.12241328 1.12224603\n",
      " 1.12202132 1.12179482 1.12179255 1.12178516 1.12177742 1.12176883\n",
      " 1.12176144 1.12175691 1.12175679 1.12175655 1.12175632 1.12175608\n",
      " 1.12175584 1.12175584 1.12175584 1.12175572 1.12175572 1.12175572\n",
      " 1.12175572 1.12175572 1.12175572 1.12175572 1.12175572 1.12175572\n",
      " 1.12175572]\n"
     ]
    }
   ],
   "source": [
    "for i in range(len(submit)):\n",
    "    test_X_data = test_data[-len(test_data)+1+i:]\n",
    "    print(test_X_data)\n",
    "#     test_X_data = test_data[0:len(test_data)-1]\n",
    "#     test_y_data = test_data[-1]\n",
    "    \n",
    "    # 將其reshape成三維shape\n",
    "    test_X_data = test_X_data[np.newaxis,:,np.newaxis]\n",
    "#     test_y_data = np.array([test_y_data])\n",
    "#     test_y_data = test_y_data[np.newaxis,:,np.newaxis]\n",
    "\n",
    "    print(i)\n",
    "    test_pred = model.predict(test_X_data)\n",
    "    print('pred: ',test_pred)\n",
    "    # append 新預測至最後一筆\n",
    "    test_data = np.append(test_data, test_pred)\n",
    "    print('new data: ',test_data)"
   ]
  },
  {
   "cell_type": "code",
   "execution_count": 57,
   "metadata": {},
   "outputs": [],
   "source": [
    "submit['Close'] = test_data[window_size+1:]"
   ]
  },
  {
   "cell_type": "code",
   "execution_count": 58,
   "metadata": {},
   "outputs": [],
   "source": [
    "submit.to_csv('submission_LSTM_W.csv',index=0)"
   ]
  },
  {
   "cell_type": "code",
   "execution_count": null,
   "metadata": {},
   "outputs": [],
   "source": []
  },
  {
   "cell_type": "code",
   "execution_count": null,
   "metadata": {},
   "outputs": [],
   "source": []
  }
 ],
 "metadata": {
  "kernelspec": {
   "display_name": "Python 3",
   "language": "python",
   "name": "python3"
  },
  "language_info": {
   "codemirror_mode": {
    "name": "ipython",
    "version": 3
   },
   "file_extension": ".py",
   "mimetype": "text/x-python",
   "name": "python",
   "nbconvert_exporter": "python",
   "pygments_lexer": "ipython3",
   "version": "3.7.6"
  }
 },
 "nbformat": 4,
 "nbformat_minor": 4
}
